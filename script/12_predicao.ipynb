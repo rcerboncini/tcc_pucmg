{
 "cells": [
  {
   "cell_type": "code",
   "execution_count": null,
   "metadata": {},
   "outputs": [],
   "source": [
    "#pip install mapclassify"
   ]
  },
  {
   "cell_type": "code",
   "execution_count": null,
   "metadata": {},
   "outputs": [],
   "source": [
    "import pandas as pd\n",
    "import numpy as np\n",
    "import matplotlib.pyplot as plt\n",
    "import matplotlib.colors as colors\n",
    "import seaborn as sns\n",
    "import geopandas as gpd\n",
    "import mapclassify\n",
    "import joblib\n",
    "import os"
   ]
  },
  {
   "cell_type": "markdown",
   "metadata": {},
   "source": [
    "### Atributos Climáticos"
   ]
  },
  {
   "cell_type": "code",
   "execution_count": null,
   "metadata": {},
   "outputs": [],
   "source": [
    "tabela = pd.read_csv('../dados_coletados/tabela_modelagem.csv', na_values = '...')\n",
    "historico = pd.read_csv('../dados_coletados/historico.csv', na_values = '...')\n",
    "p2_otimista = pd.read_csv('../dados_coletados/CE0007PE0002.csv', na_values = '...')\n",
    "p2_intenso = pd.read_csv('../dados_coletados/CE0009PE0002.csv', na_values = '...')\n",
    "p3_otimista = pd.read_csv('../dados_coletados/CE0007PE0003.csv', na_values = '...')\n",
    "p3_intenso = pd.read_csv('../dados_coletados/CE0009PE0003.csv', na_values = '...')"
   ]
  },
  {
   "cell_type": "code",
   "execution_count": null,
   "metadata": {},
   "outputs": [],
   "source": [
    "# definir lista com ordem das colunas para padronização\n",
    "atributos = tabela.columns[11:]\n",
    "ordem = list(p2_otimista.columns[0:3]) + list(atributos)"
   ]
  },
  {
   "cell_type": "code",
   "execution_count": null,
   "metadata": {
    "scrolled": true
   },
   "outputs": [],
   "source": [
    "# padronizar ordem das colunas\n",
    "p2_otimista = p2_otimista[ordem]\n",
    "p2_intenso = p2_intenso[ordem]\n",
    "p3_otimista = p3_otimista[ordem]\n",
    "p3_intenso = p3_intenso[ordem]"
   ]
  },
  {
   "cell_type": "code",
   "execution_count": null,
   "metadata": {},
   "outputs": [],
   "source": [
    "# separar os anos de interesse\n",
    "historico_2005 = historico[historico['Ano'] == 2005]\n",
    "otimista_2045 = p2_otimista[p2_otimista['Ano'] == 2045]\n",
    "otimista_2070 = p2_otimista[p2_otimista['Ano'] == 2070]\n",
    "otimista_2099 = p3_otimista[p3_otimista['Ano'] == 2099]\n",
    "intenso_2045 = p2_intenso[p2_intenso['Ano'] == 2045]\n",
    "intenso_2070 = p2_intenso[p2_intenso['Ano'] == 2070]\n",
    "intenso_2099 = p3_intenso[p3_intenso['Ano'] == 2099]"
   ]
  },
  {
   "cell_type": "code",
   "execution_count": null,
   "metadata": {
    "scrolled": true
   },
   "outputs": [],
   "source": [
    "# verificar integridade dos dados\n",
    "print(len(historico_2005))\n",
    "print(len(otimista_2045))\n",
    "print(len(otimista_2070))\n",
    "print(len(otimista_2099))\n",
    "print(len(intenso_2045))\n",
    "print(len(intenso_2070))\n",
    "print(len(intenso_2099))"
   ]
  },
  {
   "cell_type": "markdown",
   "metadata": {},
   "source": [
    "### Padronizar os atributos climáticos"
   ]
  },
  {
   "cell_type": "code",
   "execution_count": null,
   "metadata": {},
   "outputs": [],
   "source": [
    "from sklearn.preprocessing import StandardScaler\n",
    "scaler_reg = joblib.load('../resultados/scaler_reg.sav')\n",
    "scaler_class = joblib.load('../resultados/scaler_class.sav')"
   ]
  },
  {
   "cell_type": "code",
   "execution_count": null,
   "metadata": {
    "scrolled": true
   },
   "outputs": [],
   "source": [
    "#Regressão\n",
    "h_2005_X_reg = scaler_reg.transform(historico_2005.iloc[:,3:])\n",
    "o_2045_X_reg = scaler_reg.transform(otimista_2045.iloc[:,3:])\n",
    "o_2070_X_reg = scaler_reg.transform(otimista_2070.iloc[:,3:])\n",
    "o_2099_X_reg = scaler_reg.transform(otimista_2099.iloc[:,3:])\n",
    "i_2045_X_reg = scaler_reg.transform(intenso_2045.iloc[:,3:])\n",
    "i_2070_X_reg = scaler_reg.transform(intenso_2070.iloc[:,3:])\n",
    "i_2099_X_reg = scaler_reg.transform(intenso_2099.iloc[:,3:])\n",
    "\n",
    "#Classificação\n",
    "h_2005_X_class = scaler_class.transform(historico_2005.iloc[:,3:])\n",
    "o_2045_X_class = scaler_class.transform(otimista_2045.iloc[:,3:])\n",
    "o_2070_X_class = scaler_class.transform(otimista_2070.iloc[:,3:])\n",
    "o_2099_X_class = scaler_class.transform(otimista_2099.iloc[:,3:])\n",
    "i_2045_X_class = scaler_class.transform(intenso_2045.iloc[:,3:])\n",
    "i_2070_X_class = scaler_class.transform(intenso_2070.iloc[:,3:])\n",
    "i_2099_X_class = scaler_class.transform(intenso_2099.iloc[:,3:])"
   ]
  },
  {
   "cell_type": "markdown",
   "metadata": {},
   "source": [
    "### Predizer a produção de soja"
   ]
  },
  {
   "cell_type": "code",
   "execution_count": null,
   "metadata": {},
   "outputs": [],
   "source": [
    "from sklearn.ensemble import RandomForestRegressor\n",
    "from sklearn.ensemble import RandomForestClassifier\n",
    "rf_reg = joblib.load('../resultados/rf_reg.sav')\n",
    "rf_class = joblib.load('../resultados/rf_class.sav')"
   ]
  },
  {
   "cell_type": "code",
   "execution_count": null,
   "metadata": {},
   "outputs": [],
   "source": [
    "# Regressão\n",
    "h_2005_reg_alvo = rf_reg.predict(h_2005_X_reg)\n",
    "o_2045_reg_alvo = rf_reg.predict(o_2045_X_reg)\n",
    "o_2070_reg_alvo = rf_reg.predict(o_2070_X_reg)\n",
    "o_2099_reg_alvo = rf_reg.predict(o_2099_X_reg)\n",
    "i_2045_reg_alvo = rf_reg.predict(i_2045_X_reg)\n",
    "i_2070_reg_alvo = rf_reg.predict(i_2070_X_reg)\n",
    "i_2099_reg_alvo = rf_reg.predict(i_2099_X_reg)\n",
    "\n",
    "# Classificação\n",
    "h_2005_class_alvo = rf_class.predict(h_2005_X_class)\n",
    "o_2045_class_alvo = rf_class.predict(o_2045_X_class)\n",
    "o_2070_class_alvo = rf_class.predict(o_2070_X_class)\n",
    "o_2099_class_alvo = rf_class.predict(o_2099_X_class)\n",
    "i_2045_class_alvo = rf_class.predict(i_2045_X_class)\n",
    "i_2070_class_alvo = rf_class.predict(i_2070_X_class)\n",
    "i_2099_class_alvo = rf_class.predict(i_2099_X_class)"
   ]
  },
  {
   "cell_type": "code",
   "execution_count": null,
   "metadata": {
    "scrolled": true
   },
   "outputs": [],
   "source": [
    "# Regressão\n",
    "historico_2005['alvo_reg'] = h_2005_reg_alvo\n",
    "otimista_2045['alvo_reg'] = o_2045_reg_alvo\n",
    "otimista_2070['alvo_reg'] = o_2070_reg_alvo\n",
    "otimista_2099['alvo_reg'] = o_2099_reg_alvo\n",
    "intenso_2045['alvo_reg'] = i_2045_reg_alvo\n",
    "intenso_2070['alvo_reg'] = i_2070_reg_alvo\n",
    "intenso_2099['alvo_reg'] = i_2099_reg_alvo\n",
    "\n",
    "# Classificação\n",
    "historico_2005['alvo_class'] = h_2005_class_alvo\n",
    "otimista_2045['alvo_class'] = o_2045_class_alvo\n",
    "otimista_2070['alvo_class'] = o_2070_class_alvo\n",
    "otimista_2099['alvo_class'] = o_2099_class_alvo\n",
    "intenso_2045['alvo_class'] = i_2045_class_alvo\n",
    "intenso_2070['alvo_class'] = i_2070_class_alvo\n",
    "intenso_2099['alvo_class'] = i_2099_class_alvo"
   ]
  },
  {
   "cell_type": "code",
   "execution_count": null,
   "metadata": {},
   "outputs": [],
   "source": [
    "savedir = '../resultados/previsao'\n",
    "if not os.path.exists(savedir):\n",
    "    os.makedirs(savedir)\n",
    "historico_2005.to_csv(savedir + '/historico_2005.csv', index = False)\n",
    "otimista_2045.to_csv(savedir + '/otimista_2045.csv', index = False)\n",
    "otimista_2070.to_csv(savedir + '/otimista_2070.csv', index = False)\n",
    "otimista_2099.to_csv(savedir + '/otimista_2099.csv', index = False)\n",
    "intenso_2045.to_csv(savedir + '/intenso_2045.csv', index = False)\n",
    "intenso_2070.to_csv(savedir + '/intenso_2070.csv', index = False)\n",
    "intenso_2099.to_csv(savedir + '/intenso_2099.csv', index = False)"
   ]
  },
  {
   "cell_type": "markdown",
   "metadata": {},
   "source": [
    "### Método para plotagem de mapa"
   ]
  },
  {
   "cell_type": "code",
   "execution_count": null,
   "metadata": {},
   "outputs": [],
   "source": [
    "Brasil = gpd.read_file('../datasets/BR_Municipios_2021/BR_Municipios_2021.shp')"
   ]
  },
  {
   "cell_type": "code",
   "execution_count": null,
   "metadata": {},
   "outputs": [],
   "source": [
    "Brasil = Brasil.rename(columns={'NM_MUN': 'Municipio', 'SIGLA':'Estado'})"
   ]
  },
  {
   "cell_type": "code",
   "execution_count": null,
   "metadata": {},
   "outputs": [],
   "source": [
    "# tipo: 'reg' para regressão, 'class' para classificação\n",
    "# tabela: objeto pandas com a variável alvo e as colunas 'Municipio' e 'Estado'\n",
    "# alvo: nome da coluna da tabela que contém a variável alvo\n",
    "def grafico(tipo, tabela, alvo):\n",
    "    # Primeiro, criar uma tabela com os shapes dos municípios e com os dados\n",
    "    # da variável alvo nas linhas referentes.\n",
    "    modelo_plot = pd.DataFrame({\n",
    "        'plot': alvo,\n",
    "        'Municipio': tabela['Municipio'],\n",
    "        'Estado': tabela['Estado']\n",
    "    })\n",
    "    global Brasil\n",
    "    modelo_plot = Brasil.merge(modelo_plot, on = ['Municipio','Estado'])\n",
    "    # Depois, definir o tipo de plot para modelos de regressão ou de classificação\n",
    "    if tipo == 'reg':\n",
    "        classes = mapclassify.UserDefined(\n",
    "            modelo_plot['plot'],\n",
    "            np.linspace(\n",
    "                modelo_plot['plot'].min(),\n",
    "                modelo_plot['plot'].max(),\n",
    "                num = 8,\n",
    "                endpoint = True).tolist()\n",
    "        )\n",
    "        fig, ax = plt.subplots()\n",
    "        ax.set_facecolor('darkgrey')\n",
    "        classes.plot(\n",
    "            modelo_plot,\n",
    "            ax = ax,\n",
    "            legend = True,\n",
    "            legend_kwds = {\n",
    "                'loc': 'upper right',\n",
    "                'bbox_to_anchor': (1.6, 1)},\n",
    "            axis_on = True,\n",
    "            cmap = 'OrRd',\n",
    "            border_width = 0\n",
    "        )\n",
    "        \n",
    "    elif tipo == 'class':\n",
    "        fig, ax = plt.subplots()\n",
    "        ax.set_facecolor('darkgrey')\n",
    "        classes = {'baixo': 0, 'medio': 1, 'alto': 2}\n",
    "        modelo_plot['classe'] = modelo_plot['plot'].replace(classes)\n",
    "        modelo_plot.plot(\n",
    "            column = 'classe',\n",
    "            categorical = True,\n",
    "            cmap = 'OrRd',\n",
    "            ax = ax,\n",
    "            legend = True,\n",
    "            legend_kwds = {\n",
    "                'loc': 'upper right',\n",
    "                'bbox_to_anchor': (1.4, 1)}\n",
    "            )\n",
    "        leg = ax.get_legend()\n",
    "        for text, label in zip(leg.get_texts(), classes.keys()):\n",
    "            text.set_text(label)\n",
    "\n",
    "                        \n",
    "    else: print('Tipo de plot errado. Selecione \\\n",
    "                \"reg\" para modelo de regressão ou \"class\" para modelo de classificação.')"
   ]
  },
  {
   "cell_type": "markdown",
   "metadata": {},
   "source": [
    "### Histórico 2005"
   ]
  },
  {
   "cell_type": "markdown",
   "metadata": {},
   "source": [
    "##### Regressão"
   ]
  },
  {
   "cell_type": "code",
   "execution_count": null,
   "metadata": {},
   "outputs": [],
   "source": [
    "grafico('reg', historico_2005, h_2005_reg_alvo**2)\n",
    "plt.savefig('../resultados/previsao/historico_2005_reg.png', dpi = 300, bbox_inches = 'tight')"
   ]
  },
  {
   "cell_type": "markdown",
   "metadata": {},
   "source": [
    "##### Classificação"
   ]
  },
  {
   "cell_type": "code",
   "execution_count": null,
   "metadata": {},
   "outputs": [],
   "source": [
    "grafico('class', historico_2005, h_2005_class_alvo)\n",
    "plt.savefig('../resultados/previsao/historico_2005_class.png', dpi = 300, bbox_inches = 'tight')"
   ]
  },
  {
   "cell_type": "markdown",
   "metadata": {},
   "source": [
    "### Cenário otimista"
   ]
  },
  {
   "cell_type": "markdown",
   "metadata": {},
   "source": [
    "##### Regressão"
   ]
  },
  {
   "cell_type": "code",
   "execution_count": null,
   "metadata": {
    "scrolled": true
   },
   "outputs": [],
   "source": [
    "grafico('reg', otimista_2045, o_2045_reg_alvo**2)\n",
    "plt.savefig('../resultados/previsao/otimista_2045_reg.png', dpi = 300, bbox_inches = 'tight')"
   ]
  },
  {
   "cell_type": "code",
   "execution_count": null,
   "metadata": {},
   "outputs": [],
   "source": [
    "grafico('reg', otimista_2070, o_2070_reg_alvo**2)\n",
    "plt.savefig('../resultados/previsao/otimista_2070_reg.png', dpi = 300, bbox_inches = 'tight')"
   ]
  },
  {
   "cell_type": "code",
   "execution_count": null,
   "metadata": {
    "scrolled": true
   },
   "outputs": [],
   "source": [
    "grafico('reg', otimista_2099, o_2099_reg_alvo**2)\n",
    "plt.savefig('../resultados/previsao/otimista_2099_reg.png', dpi = 300, bbox_inches = 'tight')"
   ]
  },
  {
   "cell_type": "markdown",
   "metadata": {},
   "source": [
    "##### Classificação"
   ]
  },
  {
   "cell_type": "code",
   "execution_count": null,
   "metadata": {},
   "outputs": [],
   "source": [
    "grafico('class', otimista_2045, o_2045_class_alvo)\n",
    "plt.savefig('../resultados/previsao/otimista_2045_class.png', dpi = 300, bbox_inches = 'tight')"
   ]
  },
  {
   "cell_type": "code",
   "execution_count": null,
   "metadata": {},
   "outputs": [],
   "source": [
    "grafico('class', otimista_2070, o_2070_class_alvo)\n",
    "plt.savefig('../resultados/previsao/otimista_2070_class.png', dpi = 300, bbox_inches = 'tight')"
   ]
  },
  {
   "cell_type": "code",
   "execution_count": null,
   "metadata": {},
   "outputs": [],
   "source": [
    "grafico('class', otimista_2099, o_2099_class_alvo)\n",
    "plt.savefig('../resultados/previsao/otimista_2099_class.png', dpi = 300, bbox_inches = 'tight')"
   ]
  },
  {
   "cell_type": "markdown",
   "metadata": {},
   "source": [
    "### Cenário Intenso"
   ]
  },
  {
   "cell_type": "markdown",
   "metadata": {},
   "source": [
    "##### Regressão"
   ]
  },
  {
   "cell_type": "code",
   "execution_count": null,
   "metadata": {
    "scrolled": true
   },
   "outputs": [],
   "source": [
    "grafico('reg', intenso_2045, i_2045_reg_alvo**2)\n",
    "plt.savefig('../resultados/previsao/intenso_2045_reg.png', dpi = 300, bbox_inches = 'tight')"
   ]
  },
  {
   "cell_type": "code",
   "execution_count": null,
   "metadata": {},
   "outputs": [],
   "source": [
    "grafico('reg', intenso_2070, i_2070_reg_alvo**2)\n",
    "plt.savefig('../resultados/previsao/intenso_2070_reg.png', dpi = 300, bbox_inches = 'tight')"
   ]
  },
  {
   "cell_type": "code",
   "execution_count": null,
   "metadata": {
    "scrolled": true
   },
   "outputs": [],
   "source": [
    "grafico('reg', intenso_2099, i_2099_reg_alvo**2)\n",
    "plt.savefig('../resultados/previsao/intenso_2099_reg.png', dpi = 300, bbox_inches = 'tight')"
   ]
  },
  {
   "cell_type": "markdown",
   "metadata": {},
   "source": [
    "##### Classificação"
   ]
  },
  {
   "cell_type": "code",
   "execution_count": null,
   "metadata": {},
   "outputs": [],
   "source": [
    "grafico('class', intenso_2045, i_2045_class_alvo)\n",
    "plt.savefig('../resultados/previsao/intenso_2045_class.png', dpi = 300, bbox_inches = 'tight')"
   ]
  },
  {
   "cell_type": "code",
   "execution_count": null,
   "metadata": {},
   "outputs": [],
   "source": [
    "grafico('class', intenso_2070, i_2070_class_alvo)\n",
    "plt.savefig('../resultados/previsao/intenso_2070_class.png', dpi = 300, bbox_inches = 'tight')"
   ]
  },
  {
   "cell_type": "code",
   "execution_count": null,
   "metadata": {
    "scrolled": true
   },
   "outputs": [],
   "source": [
    "grafico('class', intenso_2099, i_2099_class_alvo)\n",
    "plt.savefig('../resultados/previsao/intenso_2099_class.png', dpi = 300, bbox_inches = 'tight')"
   ]
  },
  {
   "cell_type": "markdown",
   "metadata": {},
   "source": [
    "### Comparar resutados entre cenários"
   ]
  },
  {
   "cell_type": "markdown",
   "metadata": {},
   "source": [
    "##### Carregar tabelas"
   ]
  },
  {
   "cell_type": "code",
   "execution_count": null,
   "metadata": {},
   "outputs": [],
   "source": [
    "h_2005 = pd.read_csv('../resultados/previsao/historico_2005.csv')\n",
    "o_2045 = pd.read_csv('../resultados/previsao/otimista_2045.csv')\n",
    "o_2070 = pd.read_csv('../resultados/previsao/otimista_2070.csv')\n",
    "o_2099 = pd.read_csv('../resultados/previsao/otimista_2099.csv')\n",
    "i_2045 = pd.read_csv('../resultados/previsao/intenso_2045.csv')\n",
    "i_2070 = pd.read_csv('../resultados/previsao/intenso_2070.csv')\n",
    "i_2099 = pd.read_csv('../resultados/previsao/intenso_2099.csv')"
   ]
  },
  {
   "cell_type": "markdown",
   "metadata": {},
   "source": [
    "##### Regressão"
   ]
  },
  {
   "cell_type": "markdown",
   "metadata": {},
   "source": [
    "###### Histórico"
   ]
  },
  {
   "cell_type": "code",
   "execution_count": null,
   "metadata": {},
   "outputs": [],
   "source": [
    "print('Variância:', h_2005['alvo_reg'].var())\n",
    "print('Média:', h_2005['alvo_reg'].mean())"
   ]
  },
  {
   "cell_type": "markdown",
   "metadata": {},
   "source": [
    "###### Otimista"
   ]
  },
  {
   "cell_type": "code",
   "execution_count": null,
   "metadata": {
    "scrolled": false
   },
   "outputs": [],
   "source": [
    "display(o_2045['alvo_reg'].quantile(np.arange(0, 1.1, 0.25)))\n",
    "print('Variância:', o_2045['alvo_reg'].var())\n",
    "print('Média:', o_2045['alvo_reg'].mean())"
   ]
  },
  {
   "cell_type": "code",
   "execution_count": null,
   "metadata": {
    "scrolled": false
   },
   "outputs": [],
   "source": [
    "display(o_2070['alvo_reg'].quantile(np.arange(0, 1.1, 0.25)))\n",
    "print('Variância:', o_2070['alvo_reg'].var())\n",
    "print('Média:', o_2070['alvo_reg'].mean())"
   ]
  },
  {
   "cell_type": "code",
   "execution_count": null,
   "metadata": {
    "scrolled": false
   },
   "outputs": [],
   "source": [
    "display(o_2099['alvo_reg'].quantile(np.arange(0, 1.1, 0.25)))\n",
    "print('Variância:', o_2099['alvo_reg'].var())\n",
    "print('Média:', o_2099['alvo_reg'].mean())"
   ]
  },
  {
   "cell_type": "markdown",
   "metadata": {},
   "source": [
    "###### Intenso"
   ]
  },
  {
   "cell_type": "code",
   "execution_count": null,
   "metadata": {
    "scrolled": true
   },
   "outputs": [],
   "source": [
    "display(i_2045['alvo_reg'].quantile(np.arange(0, 1.1, 0.25)))\n",
    "print('Variância:', i_2045['alvo_reg'].var())\n",
    "print('Média:', i_2045['alvo_reg'].mean())"
   ]
  },
  {
   "cell_type": "code",
   "execution_count": null,
   "metadata": {
    "scrolled": false
   },
   "outputs": [],
   "source": [
    "display(i_2070['alvo_reg'].quantile(np.arange(0, 1.1, 0.25)))\n",
    "print('Variância:', i_2070['alvo_reg'].var())\n",
    "print('Média:', i_2070['alvo_reg'].mean())"
   ]
  },
  {
   "cell_type": "code",
   "execution_count": null,
   "metadata": {
    "scrolled": true
   },
   "outputs": [],
   "source": [
    "display(i_2099['alvo_reg'].quantile(np.arange(0, 1.1, 0.25)))\n",
    "print('Variância:', i_2099['alvo_reg'].var())\n",
    "print('Média:', i_2099['alvo_reg'].mean())"
   ]
  },
  {
   "cell_type": "markdown",
   "metadata": {},
   "source": [
    "##### Classificação"
   ]
  },
  {
   "cell_type": "markdown",
   "metadata": {},
   "source": [
    "###### Histórico"
   ]
  },
  {
   "cell_type": "code",
   "execution_count": null,
   "metadata": {
    "scrolled": true
   },
   "outputs": [],
   "source": [
    "display(h_2005['alvo_class'].value_counts())"
   ]
  },
  {
   "cell_type": "markdown",
   "metadata": {},
   "source": [
    "###### Otimista"
   ]
  },
  {
   "cell_type": "code",
   "execution_count": null,
   "metadata": {
    "scrolled": true
   },
   "outputs": [],
   "source": [
    "display(o_2045['alvo_class'].value_counts())"
   ]
  },
  {
   "cell_type": "code",
   "execution_count": null,
   "metadata": {
    "scrolled": true
   },
   "outputs": [],
   "source": [
    "display(o_2070['alvo_class'].value_counts())"
   ]
  },
  {
   "cell_type": "code",
   "execution_count": null,
   "metadata": {
    "scrolled": false
   },
   "outputs": [],
   "source": [
    "display(o_2099['alvo_class'].value_counts())"
   ]
  },
  {
   "cell_type": "markdown",
   "metadata": {},
   "source": [
    "###### Intenso"
   ]
  },
  {
   "cell_type": "code",
   "execution_count": null,
   "metadata": {
    "scrolled": true
   },
   "outputs": [],
   "source": [
    "display(i_2045['alvo_class'].value_counts())"
   ]
  },
  {
   "cell_type": "code",
   "execution_count": null,
   "metadata": {
    "scrolled": true
   },
   "outputs": [],
   "source": [
    "display(i_2070['alvo_class'].value_counts())"
   ]
  },
  {
   "cell_type": "code",
   "execution_count": null,
   "metadata": {
    "scrolled": true
   },
   "outputs": [],
   "source": [
    "display(i_2099['alvo_class'].value_counts())"
   ]
  },
  {
   "cell_type": "markdown",
   "metadata": {},
   "source": [
    "### Gráficos de tendência"
   ]
  },
  {
   "cell_type": "markdown",
   "metadata": {},
   "source": [
    "##### Regressão"
   ]
  },
  {
   "cell_type": "code",
   "execution_count": null,
   "metadata": {},
   "outputs": [],
   "source": [
    "reg = pd.DataFrame({\n",
    "    'Ano':['2005','2045','2070','2099',\n",
    "           '2005','2045', '2070', '2099'],\n",
    "    'Cenário':['Otimista','Otimista','Otimista','Otimista',\n",
    "              'Intenso','Intenso','Intenso','Intenso'],\n",
    "    'Variância':[47.34958359396894**2, 9.297911717617247**2, 10.028279342645419**2, 2.6533585345046173**2,\n",
    "                47.34958359396894*22, 10.617220036317025**2, 11.51709086998397**2, 6.956099726355543**2],\n",
    "    'Média':[42.99386396320996**2, 44.75958290864603**2, 45.10285643738353**2, 42.755611686427144**2,\n",
    "            42.99386396320996**2, 44.562056197096545**2, 44.86480158969739**2, 43.3775014581854**2]\n",
    "    })"
   ]
  },
  {
   "cell_type": "code",
   "execution_count": null,
   "metadata": {},
   "outputs": [],
   "source": [
    "reg_media = reg.pivot('Ano', 'Cenário', 'Média')\n",
    "reg_media"
   ]
  },
  {
   "cell_type": "code",
   "execution_count": null,
   "metadata": {},
   "outputs": [],
   "source": [
    "sns.set_theme(style = 'ticks', rc = {'axes.facecolor':'#C6C6C6'})\n",
    "sns.lineplot(data = reg_media,\n",
    "            markers = False, dashes = True, linewidth = 3)\n",
    "plt.legend(bbox_to_anchor = (1.05, 1), loc = 2, borderaxespad = 0.1)\n",
    "sns.despine()\n",
    "plt.xlabel('Ano', size = 12)\n",
    "plt.ylabel('Produtividade média (kg/ha)', size = 14)\n",
    "plt.savefig('../resultados/previsao/reg.png', dpi = 300, bbox_inches = 'tight')"
   ]
  },
  {
   "cell_type": "markdown",
   "metadata": {},
   "source": [
    "##### Classificação"
   ]
  },
  {
   "cell_type": "code",
   "execution_count": null,
   "metadata": {},
   "outputs": [],
   "source": [
    "o_class = pd.DataFrame({\n",
    "    'Ano':['2005','2005','2005','2045','2045','2045','2070','2070','2070','2099','2099','2099'],\n",
    "    'Classe':['baixo','medio','alto','baixo','medio','alto','baixo','medio','alto','baixo','medio','alto'],\n",
    "    'Municípios':[2078, 1188, 2297, 625, 1744, 3194, 529, 1790, 3244, 389, 4397, 777]\n",
    "    })\n",
    "\n",
    "i_class = pd.DataFrame({\n",
    "    'Ano':['2005','2005','2005','2045','2045','2045','2070','2070','2070','2099','2099','2099'],\n",
    "    'Classe':['baixo','medio','alto','baixo','medio','alto','baixo','medio','alto','baixo','medio','alto'],\n",
    "    'Municípios':[2078, 1188, 2297, 815, 2070, 2678, 357, 1869, 3337, 254, 3604, 1705]\n",
    "    })"
   ]
  },
  {
   "cell_type": "code",
   "execution_count": null,
   "metadata": {
    "scrolled": true
   },
   "outputs": [],
   "source": [
    "def tendencia(dados):    \n",
    "    sns.set_theme(style = 'ticks', rc = {'axes.facecolor':'#C6C6C6'})\n",
    "    cores = ['#7B0004','#FEF7EC','#F68A5C']\n",
    "    sns.set_palette(palette = cores)\n",
    "    sns.lineplot(data = dados.pivot('Ano', 'Classe', 'Municípios'),\n",
    "                 markers = False, dashes = False, linewidth = 2.5)\n",
    "    plt.legend(bbox_to_anchor = (1.05, 1), loc = 2, borderaxespad = 0.1)\n",
    "    sns.despine()\n",
    "    plt.xlabel('Ano', size = 12)\n",
    "    plt.ylabel('Número de municípios', size = 14)"
   ]
  },
  {
   "cell_type": "code",
   "execution_count": null,
   "metadata": {},
   "outputs": [],
   "source": [
    "tendencia(o_class)\n",
    "plt.title('Cenário Otimista', size = 14)\n",
    "plt.savefig('../resultados/previsao/otimista_class.png', dpi = 300, bbox_inches = 'tight')"
   ]
  },
  {
   "cell_type": "code",
   "execution_count": null,
   "metadata": {
    "scrolled": true
   },
   "outputs": [],
   "source": [
    "tendencia(i_class)\n",
    "plt.title('Cenário Intenso', size = 14)\n",
    "plt.savefig('../resultados/previsao/intenso_class.png', dpi = 300, bbox_inches = 'tight')"
   ]
  }
 ],
 "metadata": {
  "kernelspec": {
   "display_name": "Python 3",
   "language": "python",
   "name": "python3"
  },
  "language_info": {
   "codemirror_mode": {
    "name": "ipython",
    "version": 3
   },
   "file_extension": ".py",
   "mimetype": "text/x-python",
   "name": "python",
   "nbconvert_exporter": "python",
   "pygments_lexer": "ipython3",
   "version": "3.8.10"
  }
 },
 "nbformat": 4,
 "nbformat_minor": 4
}
