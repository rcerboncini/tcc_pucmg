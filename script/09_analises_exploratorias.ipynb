{
 "cells": [
  {
   "cell_type": "code",
   "execution_count": null,
   "metadata": {},
   "outputs": [],
   "source": [
    "#pip install scikit-learn"
   ]
  },
  {
   "cell_type": "code",
   "execution_count": null,
   "metadata": {},
   "outputs": [],
   "source": [
    "import os\n",
    "import pandas as pd\n",
    "import numpy as np\n",
    "import matplotlib.pyplot as plt\n",
    "import seaborn as sns\n",
    "from sklearn.preprocessing import StandardScaler\n",
    "from sklearn.decomposition import PCA"
   ]
  },
  {
   "cell_type": "markdown",
   "metadata": {},
   "source": [
    "### Análises exploratórias"
   ]
  },
  {
   "cell_type": "code",
   "execution_count": null,
   "metadata": {},
   "outputs": [],
   "source": [
    "tabela = pd.read_csv('../dados_coletados/tabela_modelagem.csv', na_values = '...')"
   ]
  },
  {
   "cell_type": "code",
   "execution_count": null,
   "metadata": {
    "scrolled": true
   },
   "outputs": [],
   "source": [
    "tabela.info()"
   ]
  },
  {
   "cell_type": "code",
   "execution_count": null,
   "metadata": {},
   "outputs": [],
   "source": [
    "alvo = tabela['Rendimento']\n",
    "ano = tabela['Ano']\n",
    "ipcc = tabela.iloc[:,11:]"
   ]
  },
  {
   "cell_type": "markdown",
   "metadata": {},
   "source": [
    "#### Distribuição dos dados 'alvo'"
   ]
  },
  {
   "cell_type": "code",
   "execution_count": null,
   "metadata": {},
   "outputs": [],
   "source": [
    "sns.histplot(alvo)"
   ]
  },
  {
   "cell_type": "code",
   "execution_count": null,
   "metadata": {},
   "outputs": [],
   "source": [
    "alvo.mean()"
   ]
  },
  {
   "cell_type": "code",
   "execution_count": null,
   "metadata": {},
   "outputs": [],
   "source": [
    "alvo.quantile(np.arange(0, 1.1, 0.1))"
   ]
  },
  {
   "cell_type": "code",
   "execution_count": null,
   "metadata": {
    "scrolled": true
   },
   "outputs": [],
   "source": [
    "sns.histplot(alvo ** .5)"
   ]
  },
  {
   "cell_type": "code",
   "execution_count": null,
   "metadata": {},
   "outputs": [],
   "source": [
    "alvo = alvo**.5"
   ]
  },
  {
   "cell_type": "markdown",
   "metadata": {},
   "source": [
    "#### Rendimento vs Ano"
   ]
  },
  {
   "cell_type": "code",
   "execution_count": null,
   "metadata": {},
   "outputs": [],
   "source": [
    "sns.scatterplot(x = ano, y = alvo)"
   ]
  },
  {
   "cell_type": "code",
   "execution_count": null,
   "metadata": {
    "scrolled": true
   },
   "outputs": [],
   "source": [
    "maiores_areas = alvo.loc[alvo > 62]\n",
    "ma_index = maiores_areas.index\n",
    "\n",
    "sns.scatterplot(x = ano.loc[ma_index], y = alvo.loc[ma_index])"
   ]
  },
  {
   "cell_type": "code",
   "execution_count": null,
   "metadata": {
    "scrolled": true
   },
   "outputs": [],
   "source": [
    "tabela.loc[maiores_areas.index, \n",
    "           ['Municipio', 'Ano', 'Estado', 'Area_total', 'Toneladas', 'Rendimento']]"
   ]
  },
  {
   "cell_type": "markdown",
   "metadata": {},
   "source": [
    "##### Definir número aleatório para ser semente nos procedimentos de aleatorização"
   ]
  },
  {
   "cell_type": "code",
   "execution_count": null,
   "metadata": {},
   "outputs": [],
   "source": [
    "#Apenas uma vez para obter um número aleatório para a semente a ser utilizada nos modelos,\n",
    "#permitindo assim a replicação dos resultados obtidos.\n",
    "#from random import randint\n",
    "#randint(1,10000)"
   ]
  },
  {
   "cell_type": "code",
   "execution_count": null,
   "metadata": {},
   "outputs": [],
   "source": [
    "#resultado dos procedimentos acima foi 5744, e esse será utilizado como seed em todo o trabalho\n",
    "seed = 5744"
   ]
  },
  {
   "cell_type": "code",
   "execution_count": null,
   "metadata": {
    "scrolled": false
   },
   "outputs": [],
   "source": [
    "amostra_municipios = tabela.sample(25, random_state = seed)['Municipio'].unique()\n",
    "amostra_municipios"
   ]
  },
  {
   "cell_type": "code",
   "execution_count": null,
   "metadata": {},
   "outputs": [],
   "source": [
    "amostra_teste = tabela[tabela['Municipio'].isin(amostra_municipios)]\n",
    "for i in amostra_municipios:\n",
    "    cidade = amostra_teste[amostra_teste['Municipio'] == i]\n",
    "    cidade_index = cidade.index\n",
    "    sns.scatterplot(x = ano.loc[cidade_index], y = alvo.loc[cidade_index])"
   ]
  },
  {
   "cell_type": "markdown",
   "metadata": {},
   "source": [
    "#### Atributos (variáveis climáticas)"
   ]
  },
  {
   "cell_type": "code",
   "execution_count": null,
   "metadata": {},
   "outputs": [],
   "source": [
    "sc = StandardScaler()\n",
    "ipcc_sc = sc.fit_transform(ipcc)\n",
    "ipcc_sc"
   ]
  },
  {
   "cell_type": "code",
   "execution_count": null,
   "metadata": {},
   "outputs": [],
   "source": [
    "ipcc_sc = pd.DataFrame(ipcc_sc)\n",
    "ipcc_sc.columns = ipcc.columns\n",
    "ipcc_sc"
   ]
  },
  {
   "cell_type": "markdown",
   "metadata": {},
   "source": [
    "##### Correlação entre atributos climáticos"
   ]
  },
  {
   "cell_type": "code",
   "execution_count": null,
   "metadata": {
    "scrolled": false
   },
   "outputs": [],
   "source": [
    "ipcc_cm = ipcc_sc.corr().abs()\n",
    "display (ipcc_cm)"
   ]
  },
  {
   "cell_type": "code",
   "execution_count": null,
   "metadata": {},
   "outputs": [],
   "source": [
    "ipcc_cm = ipcc_sc.corr().abs()\n",
    "cor_list = ipcc_cm.unstack().sort_values(kind = 'quick', ascending = False)\n",
    "cor_list[(cor_list >= 0.85) & (cor_list < 1)]"
   ]
  },
  {
   "cell_type": "markdown",
   "metadata": {},
   "source": [
    "##### PCA"
   ]
  },
  {
   "cell_type": "code",
   "execution_count": null,
   "metadata": {},
   "outputs": [],
   "source": [
    "pca = PCA(n_components = 5)\n",
    "ipcc_pca = pca.fit_transform(ipcc_sc)\n",
    "print('Variancia explicada:  ', pca.explained_variance_)\n",
    "print('Porcentagem do total: ', pca.explained_variance_ratio_)\n",
    "print('Porcentagem acumulada:', pca.explained_variance_ratio_.cumsum())"
   ]
  },
  {
   "cell_type": "code",
   "execution_count": null,
   "metadata": {},
   "outputs": [],
   "source": [
    "ipcc_pca_eixos = pd.DataFrame(data = ipcc_pca, columns = ['PCA_1', 'PCA_2', 'PCA_3', 'PCA_4', 'PCA_5'])\n",
    "savedir = '../resultados/exploratorias'\n",
    "if not os.path.exists(savedir):\n",
    "    os.makedirs(savedir)\n",
    "ipcc_pca_eixos.to_csv(savedir + '/ipcc_pca_eixos.csv', index = False)"
   ]
  },
  {
   "cell_type": "markdown",
   "metadata": {},
   "source": [
    "#### PCA Loadings"
   ]
  },
  {
   "cell_type": "code",
   "execution_count": null,
   "metadata": {},
   "outputs": [],
   "source": [
    "ipcc_pca_loadings = pd.DataFrame(data = pca.components_.T,\n",
    "                                 columns=['PCA_1', 'PCA_2', 'PCA_3', 'PCA_4', 'PCA_5'],\n",
    "                                 index = ipcc.columns)\n",
    "#Destacar os atributos mais importantes para cada componente \n",
    "ipcc_pca_loadings.style.apply(lambda x:[\n",
    "    \"background: blue\" if abs(v) > abs(x).quantile(0.85) else \"\" for v in x],axis = 1)"
   ]
  },
  {
   "cell_type": "markdown",
   "metadata": {},
   "source": [
    "#### Salvar loadings em aquivo"
   ]
  },
  {
   "cell_type": "code",
   "execution_count": null,
   "metadata": {},
   "outputs": [],
   "source": [
    "if not os.path.exists(savedir):\n",
    "    os.makedirs(savedir)\n",
    "ipcc_pca_loadings.to_csv(savedir + '/ipcc_pca_loadings.csv', index = True)"
   ]
  },
  {
   "cell_type": "markdown",
   "metadata": {},
   "source": [
    "#### Biplot PCA1 vs PCA2"
   ]
  },
  {
   "cell_type": "code",
   "execution_count": null,
   "metadata": {
    "scrolled": true
   },
   "outputs": [],
   "source": [
    "xmax = max(ipcc_pca_eixos['PCA_1'].to_list())\n",
    "ymax = max(ipcc_pca_eixos['PCA_2'].to_list())\n",
    "eixo_x =  [i/xmax for i in ipcc_pca_eixos['PCA_1'].to_list()]\n",
    "eixo_y = [i/xmax for i in ipcc_pca_eixos['PCA_2'].to_list()]\n",
    "sns.scatterplot(x = eixo_x,\n",
    "                y = eixo_y,\n",
    "                legend = True,\n",
    "                color = 'lightblue')\n",
    "for i in range(pca.components_[0:2, :].T.shape[0]):\n",
    "    plt.arrow(0,\n",
    "              0,\n",
    "              pca.components_[0:2, :].T[i,0],\n",
    "              pca.components_[0:2, :].T[i,1],\n",
    "              color = 'darkblue',\n",
    "              alpha = 0.5)\n",
    "    plt.text(pca.components_[0:2, :].T[i,0],\n",
    "             pca.components_[0:2, :].T[i,1],\n",
    "             ipcc.columns[i],\n",
    "             color = 'brown',\n",
    "             ha = 'center',\n",
    "             va = 'center')"
   ]
  },
  {
   "cell_type": "markdown",
   "metadata": {},
   "source": [
    "#### Atributos vs Alvo"
   ]
  },
  {
   "cell_type": "code",
   "execution_count": null,
   "metadata": {
    "scrolled": true
   },
   "outputs": [],
   "source": [
    "# PCA 1\n",
    "sns.scatterplot(x = ipcc_pca_eixos['PCA_1'], y = alvo)"
   ]
  },
  {
   "cell_type": "code",
   "execution_count": null,
   "metadata": {},
   "outputs": [],
   "source": [
    "# PCA 2\n",
    "sns.scatterplot(x = ipcc_pca_eixos['PCA_2'], y = alvo)"
   ]
  },
  {
   "cell_type": "code",
   "execution_count": null,
   "metadata": {},
   "outputs": [],
   "source": [
    "# PCA 3\n",
    "sns.scatterplot(x = ipcc_pca_eixos['PCA_3'], y = alvo)"
   ]
  },
  {
   "cell_type": "code",
   "execution_count": null,
   "metadata": {},
   "outputs": [],
   "source": [
    "# PCA 4\n",
    "sns.scatterplot(x = ipcc_pca_eixos['PCA_4'], y = alvo)"
   ]
  },
  {
   "cell_type": "code",
   "execution_count": null,
   "metadata": {},
   "outputs": [],
   "source": [
    "# PCA 5\n",
    "sns.scatterplot(x = ipcc_pca_eixos['PCA_5'], y = alvo)"
   ]
  }
 ],
 "metadata": {
  "kernelspec": {
   "display_name": "Python 3",
   "language": "python",
   "name": "python3"
  },
  "language_info": {
   "codemirror_mode": {
    "name": "ipython",
    "version": 3
   },
   "file_extension": ".py",
   "mimetype": "text/x-python",
   "name": "python",
   "nbconvert_exporter": "python",
   "pygments_lexer": "ipython3",
   "version": "3.8.10"
  }
 },
 "nbformat": 4,
 "nbformat_minor": 4
}
