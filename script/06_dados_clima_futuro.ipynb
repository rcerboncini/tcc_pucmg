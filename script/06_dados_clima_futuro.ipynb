{
 "cells": [
  {
   "cell_type": "markdown",
   "metadata": {},
   "source": [
    "### Instalar e carregar pacotes"
   ]
  },
  {
   "cell_type": "code",
   "execution_count": null,
   "metadata": {},
   "outputs": [],
   "source": [
    "#pip install apipclima tqdm"
   ]
  },
  {
   "cell_type": "code",
   "execution_count": null,
   "metadata": {},
   "outputs": [],
   "source": [
    "import pandas as pd\n",
    "import pclima as pcl\n",
    "import time\n",
    "from tqdm.auto import tqdm"
   ]
  },
  {
   "cell_type": "markdown",
   "metadata": {},
   "source": [
    "# Coleta de dados climáticos"
   ]
  },
  {
   "cell_type": "markdown",
   "metadata": {},
   "source": [
    "### Carregar arquivo com dados dos municípios"
   ]
  },
  {
   "cell_type": "code",
   "execution_count": null,
   "metadata": {},
   "outputs": [],
   "source": [
    "dados = pd.read_csv(\"../dados_coletados/dados.csv\")\n",
    "dados.head()"
   ]
  },
  {
   "cell_type": "markdown",
   "metadata": {},
   "source": [
    "### Criar lista das variáveis climáticas disponibilizadas pela API"
   ]
  },
  {
   "cell_type": "code",
   "execution_count": null,
   "metadata": {
    "scrolled": true
   },
   "outputs": [],
   "source": [
    "#As informações para construção das listas foram obtidas\n",
    "#em:http://pclima.inpe.br/analise/API/\n",
    "var_clima = pd.DataFrame({\n",
    "    'var':['VR0001','VR0002','VR0003','VR0004','VR0005',\n",
    "           'VR0006','VR0008','VR0009','VR0010','VR0011',\n",
    "           'VR0046','VR0047','VR0012','VR0014','VR0019',\n",
    "           'VR0020','VR0022','VR0023','VR0024','VR0025',\n",
    "           'VR0026','VR0028','VR0029','VR0033','VR0034'\n",
    "          ],\n",
    "    'varname':['tasmax','tasmin','tas','pr','huss',\n",
    "               'hurs','rlds','rsds','uas','vas',\n",
    "               'sfcWind','ps','CDD','CWD','R10mm',\n",
    "               'R20mm','R95p','R99p','RX1day','RX5day',\n",
    "               'SDII','TN10p','TN90p','TX10p','TX90p'\n",
    "              ],\n",
    "    'descricao':['Temperatura Máxima','Temperatura Mínima','Temperatura Média','Precipitação Total','Umidade Específica',\n",
    "                 'Umidade Relativa','Radiação de Onda Longa','Radiacao de Onda Curta','Componente U','Componente V',\n",
    "                 'Intensidade do Vento','Pressão à Superfície','Máx de Dias Secos Consec','Max de Dias Chuvosos Consec','Dias com chuva > 10mm',\n",
    "                 'Dias com chuva > 20mm','Precipitação Total > Percentil 95','Precipitação Total > Percentil 99','Qtd Max Chuva em 1 dia','Qtd Max Chuva 5 dias consec',\n",
    "                 'Precipitação Média em Dias Umidos','% Dias com Temp Mín < Percentil 10','% Dias com Temp Mín > Percentil 90','% Dias com Temp Máx < Percentil 10','% Dias com Temp Máx > Percentil 90'\n",
    "                ]\n",
    "})\n",
    "#Opcional: definir quais variáveis serão coletadas\n",
    "#(útil para subdividir o trabalho de busca pela API)\n",
    "var_clima = var_clima.iloc[:,:]\n",
    "var_clima"
   ]
  },
  {
   "cell_type": "markdown",
   "metadata": {},
   "source": [
    "### Definir o cenário de intensidade e o período temporal"
   ]
  },
  {
   "cell_type": "code",
   "execution_count": null,
   "metadata": {
    "scrolled": true
   },
   "outputs": [],
   "source": [
    "#Cenário da mudança climática: otimista = 'CE0007', intenso = 'CE0009'\n",
    "#Período temporal: 2011-2040 = 'PE0001', 2041-2070 = 'PE0002', 2071-2100 = 'PE0003'\n",
    "intensidade = ['CE0007','CE0009']\n",
    "tempo = ['PE0001','PE0002','PE0003']\n",
    "intensidade = intensidade[0]\n",
    "tempo = tempo[1]\n",
    "print(intensidade + ' - ' + tempo)"
   ]
  },
  {
   "cell_type": "markdown",
   "metadata": {},
   "source": [
    "### Definir a lista de municípios para busca pelas coordenadas"
   ]
  },
  {
   "cell_type": "code",
   "execution_count": null,
   "metadata": {},
   "outputs": [],
   "source": [
    "lista_municipios = dados[['Estado','Municipio']].drop_duplicates()\n",
    "#Opcional: definir subgrupos de municípios\n",
    "#(útil para testes do funcionamento da busca pela API)\n",
    "lista_municipios = lista_municipios.iloc[:,:]\n",
    "lista_municipios"
   ]
  },
  {
   "cell_type": "markdown",
   "metadata": {},
   "source": [
    "### Definir método para coletar dados do IPCC - futuro - através da API"
   ]
  },
  {
   "cell_type": "code",
   "execution_count": null,
   "metadata": {},
   "outputs": [],
   "source": [
    "def coleta_ipcc(municipio, estado, lat, long, var, nomevar):\n",
    "    Client = pcl.Client()\n",
    "    data = Client.getData({\n",
    "        \"formato\": \"CSV\",\n",
    "        \"conjunto\": \"PR0002\",\n",
    "        \"modelo\": \"MO0003\",\n",
    "        \"experimento\": \"EX0003\",\n",
    "        \"periodo\": tempo,\n",
    "        \"cenario\": intensidade,\n",
    "        \"variavel\": var,\n",
    "        \"frequenciaURL\": \"Anual\",\n",
    "        \"frequencia\": \"FR0001\",\n",
    "        \"produto\": \"PDT0002\",\n",
    "        \"localizacao\": \"Ponto\",\n",
    "        \"localizacao_pontos\": lat+'/'+long,\n",
    "        \"varCDO\": nomevar\n",
    "    })\n",
    "    split = data['data'].str.split(\"-\", n=1, expand=True)\n",
    "    data['data'] = split[0]\n",
    "    data['Municipio'] = municipio\n",
    "    data['Estado'] = estado\n",
    "    data = data.rename(columns={'data':'Ano'})\n",
    "    global dados_clima\n",
    "    dados_clima = pd.concat([dados_clima, data])"
   ]
  },
  {
   "cell_type": "markdown",
   "metadata": {},
   "source": [
    "### Buscar variáveis através da API"
   ]
  },
  {
   "cell_type": "code",
   "execution_count": null,
   "metadata": {
    "scrolled": false
   },
   "outputs": [],
   "source": [
    "start = time.time()\n",
    "with tqdm(total=len(var_clima.index)) as xloops:\n",
    "    for l,m in var_clima.iterrows():\n",
    "        var = m['var']\n",
    "        varname = m['varname']\n",
    "        print('Variável:',var,'-',varname,end='                                                \\r')\n",
    "        dados_clima = pd.DataFrame({'Ano': [],'Municipio': [],'Estado': []})\n",
    "        with tqdm(total=len(lista_municipios.index)) as sloops:\n",
    "            for i,j in lista_municipios.iterrows():\n",
    "                est = j['Estado']\n",
    "                mun = j['Municipio']\n",
    "                lat = dados[(dados['Estado'] == est) & (dados['Municipio'] == mun)]['lat'].unique()[0]\n",
    "                long = dados[(dados['Estado'] == est) & (dados['Municipio'] == mun)]['long'].unique()[0]\n",
    "                lat = str(round(float(lat), 2))\n",
    "                long = str(round(float(long), 2))\n",
    "                coleta_ipcc(mun, est, lat, long, var, varname)\n",
    "                sloops.update(1)\n",
    "                print('Coletando dados:', est, '-', mun,end='                                                \\r')\n",
    "            #após o término do laço para uma variável, a tabela resultante é salva na pasta 'dados_coletados'\n",
    "            dados_clima.to_csv('../dados_coletados/futuro/'+intensidade+'/'+tempo+'/'+varname+'.csv', index = False)\n",
    "        xloops.update(1)\n",
    "end = time.time()\n",
    "print('Finalizado em:',round(end - start,1),'segundos',end='                                                \\r')"
   ]
  }
 ],
 "metadata": {
  "kernelspec": {
   "display_name": "Python 3",
   "language": "python",
   "name": "python3"
  },
  "language_info": {
   "codemirror_mode": {
    "name": "ipython",
    "version": 3
   },
   "file_extension": ".py",
   "mimetype": "text/x-python",
   "name": "python",
   "nbconvert_exporter": "python",
   "pygments_lexer": "ipython3",
   "version": "3.8.10"
  }
 },
 "nbformat": 4,
 "nbformat_minor": 4
}
