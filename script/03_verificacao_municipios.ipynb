{
 "cells": [
  {
   "cell_type": "code",
   "execution_count": null,
   "metadata": {},
   "outputs": [],
   "source": [
    "import pandas as pd\n",
    "import numpy as np"
   ]
  },
  {
   "cell_type": "markdown",
   "metadata": {},
   "source": [
    "### Carregar tabelas de dados"
   ]
  },
  {
   "cell_type": "code",
   "execution_count": null,
   "metadata": {},
   "outputs": [],
   "source": [
    "soja = pd.read_csv('../dados_coletados/tabela_soja.csv', na_values = '...')\n",
    "pontos = pd.read_csv('../dados_coletados/municipios_coordenadas.csv')"
   ]
  },
  {
   "cell_type": "markdown",
   "metadata": {},
   "source": [
    "### Juntar as coordenadas dos municípios com os dados de produção"
   ]
  },
  {
   "cell_type": "code",
   "execution_count": null,
   "metadata": {
    "scrolled": true
   },
   "outputs": [],
   "source": [
    "dados = pd.merge(soja, pontos, how = 'outer', \n",
    "                 left_on=['Municipio','Estado'],\n",
    "                 right_on = ['Municipio','Estado'])\n",
    "dados"
   ]
  },
  {
   "cell_type": "markdown",
   "metadata": {},
   "source": [
    "### Verificar municípios que os dados não foram pareados corretamente"
   ]
  },
  {
   "cell_type": "code",
   "execution_count": null,
   "metadata": {
    "scrolled": true
   },
   "outputs": [],
   "source": [
    "soja_na = dados[dados['lat'].isna()]['Municipio'].unique()\n",
    "print(soja_na)\n",
    "coordenadas_na = dados[dados['Ano'].isna()]['Municipio'].unique()\n",
    "print(coordenadas_na)"
   ]
  },
  {
   "cell_type": "markdown",
   "metadata": {},
   "source": [
    "### Definir o método para atualizar o nome do município e coordenadas"
   ]
  },
  {
   "cell_type": "code",
   "execution_count": null,
   "metadata": {},
   "outputs": [],
   "source": [
    "def corrigir_grafia(estado, antigo, novo):\n",
    "    global dados\n",
    "    dados.loc[(dados['Estado'] == estado) & (dados['Municipio'] == antigo), 'Municipio'] = novo\n",
    "    coord = dados[(dados['Estado'] == estado) &\n",
    "                  (dados['Municipio'] == novo) &\n",
    "                  (dados['lat'].notna())][['lat', 'long']]\n",
    "    dados.loc[(dados['Estado'] == estado) &\n",
    "              (dados['Municipio'] == novo), 'lat'] = coord.lat.values[0]\n",
    "    dados.loc[(dados['Estado'] == estado) &\n",
    "              (dados['Municipio'] == novo), 'long'] = coord.long.values[0]\n",
    "    dados = dados.drop(dados[((dados['Estado'] == estado) &\n",
    "                              (dados['Municipio'] == novo) &\n",
    "                              (dados['Ano'].isna()))].index)\n",
    "    print(dados[(dados['Estado'] == estado) & (dados['Municipio'] == antigo)])\n",
    "    print(dados[(dados['Estado'] == estado) & (dados['Municipio'] == novo)])"
   ]
  },
  {
   "cell_type": "markdown",
   "metadata": {},
   "source": [
    "#### Augusto Severo"
   ]
  },
  {
   "cell_type": "code",
   "execution_count": null,
   "metadata": {},
   "outputs": [],
   "source": [
    "#Augusto Severo mudou grafia para Campo Grande\n",
    "#Fonte: https://www.ibge.gov.br/geociencias/organizacao-do-territorio/estrutura-territorial/27336-alteracoes-toponimicas-municipais.html?=&t=acesso-ao-produto\n",
    "print(dados[(dados['Estado'] == 'RN') & (dados['Municipio'] == 'Augusto Severo')])\n",
    "print(dados[(dados['Estado'] == 'RN') & (dados['Municipio'] == 'Campo Grande')])\n",
    "corrigir_grafia('RN', 'Augusto Severo', 'Campo Grande')"
   ]
  },
  {
   "cell_type": "markdown",
   "metadata": {},
   "source": [
    "#### Fortaleza do Tabocão"
   ]
  },
  {
   "cell_type": "code",
   "execution_count": null,
   "metadata": {
    "scrolled": true
   },
   "outputs": [],
   "source": [
    "#Fortaleza do Tabocão mudou grafia para Tabocão\n",
    "#Fonte: https://www.ibge.gov.br/geociencias/organizacao-do-territorio/estrutura-territorial/27336-alteracoes-toponimicas-municipais.html?=&t=acesso-ao-produto\n",
    "print(dados[(dados['Estado'] == 'TO') & (dados['Municipio'] == 'Fortaleza do Tabocão')])\n",
    "print(dados[(dados['Estado'] == 'TO') & (dados['Municipio'] == 'Tabocão')])\n",
    "corrigir_grafia('TO', 'Fortaleza do Tabocão', 'Tabocão')"
   ]
  },
  {
   "cell_type": "markdown",
   "metadata": {},
   "source": [
    "#### Ererê"
   ]
  },
  {
   "cell_type": "code",
   "execution_count": null,
   "metadata": {
    "scrolled": true
   },
   "outputs": [],
   "source": [
    "#Ererê mudou grafia para Ereré\n",
    "#Fonte: https://www.ibge.gov.br/geociencias/organizacao-do-territorio/estrutura-territorial/27336-alteracoes-toponimicas-municipais.html?=&t=acesso-ao-produto\n",
    "print(dados[(dados['Estado'] == 'CE') & (dados['Municipio'] == 'Ererê')])\n",
    "print(dados[(dados['Estado'] == 'CE') & (dados['Municipio'] == 'Ereré')])\n",
    "corrigir_grafia('CE', 'Ererê', 'Ereré')"
   ]
  },
  {
   "cell_type": "markdown",
   "metadata": {},
   "source": [
    "#### Dona Eusébia"
   ]
  },
  {
   "cell_type": "code",
   "execution_count": null,
   "metadata": {
    "scrolled": true
   },
   "outputs": [],
   "source": [
    "#Dona Eusébia mudou grafia para Dona Euzébia\n",
    "#Fonte: https://www.ibge.gov.br/geociencias/organizacao-do-territorio/estrutura-territorial/27336-alteracoes-toponimicas-municipais.html?=&t=acesso-ao-produto\n",
    "print(dados[(dados['Estado'] == 'MG') & (dados['Municipio'] == 'Dona Eusébia')])\n",
    "print(dados[(dados['Estado'] == 'MG') & (dados['Municipio'] == 'Dona Euzébia')])\n",
    "corrigir_grafia('MG', 'Dona Eusébia', 'Dona Euzébia')"
   ]
  },
  {
   "cell_type": "markdown",
   "metadata": {},
   "source": [
    "#### Pingo d'Água"
   ]
  },
  {
   "cell_type": "code",
   "execution_count": null,
   "metadata": {
    "scrolled": true
   },
   "outputs": [],
   "source": [
    "#Pingo d'Água mudou grafia para Pingo-d'Água \n",
    "#Fonte: https://www.ibge.gov.br/geociencias/organizacao-do-territorio/estrutura-territorial/27336-alteracoes-toponimicas-municipais.html?=&t=acesso-ao-produto\n",
    "print(dados[(dados['Estado'] == 'MG') & (dados['Municipio'] == \"Pingo d'Água\")])\n",
    "print(dados[(dados['Estado'] == 'MG') & (dados['Municipio'] == \"Pingo-d'Água\")])\n",
    "corrigir_grafia('MG', \"Pingo d'Água\", \"Pingo-d'Água\")"
   ]
  },
  {
   "cell_type": "markdown",
   "metadata": {},
   "source": [
    "#### São Thomé das Letras"
   ]
  },
  {
   "cell_type": "code",
   "execution_count": null,
   "metadata": {
    "scrolled": false
   },
   "outputs": [],
   "source": [
    "#São Thomé das Letras mudou grafia para São Tomé das Letras\n",
    "#Fonte: https://www.ibge.gov.br/geociencias/organizacao-do-territorio/estrutura-territorial/27336-alteracoes-toponimicas-municipais.html?=&t=acesso-ao-produto\n",
    "print(dados[(dados['Estado'] == 'MG') & (dados['Municipio'] == 'São Thomé das Letras')])\n",
    "print(dados[(dados['Estado'] == 'MG') & (dados['Municipio'] == 'São Tomé das Letras')])\n",
    "corrigir_grafia('MG', 'São Thomé das Letras', 'São Tomé das Letras')"
   ]
  },
  {
   "cell_type": "markdown",
   "metadata": {},
   "source": [
    "### Atualizar lista de municípios não pareados corretamente"
   ]
  },
  {
   "cell_type": "code",
   "execution_count": null,
   "metadata": {},
   "outputs": [],
   "source": [
    "coordenadas_na = np.delete(coordenadas_na, \n",
    "          np.in1d(coordenadas_na,\n",
    "                  ['Campo Grande', 'Tabocão', 'Ereré',\n",
    "                   'Dona Euzébia', \"Pingo-d'Água\", 'São Tomé das Letras']))\n",
    "coordenadas_na"
   ]
  },
  {
   "cell_type": "markdown",
   "metadata": {},
   "source": [
    "### Verificar a inexistência de municípios sem coordenadas na tabela de dados"
   ]
  },
  {
   "cell_type": "code",
   "execution_count": null,
   "metadata": {},
   "outputs": [],
   "source": [
    "producao_na = dados[dados['lat'].isna()]['Municipio'].unique()\n",
    "print(producao_na)\n",
    "#Nenhum município sem coordenadas na tabela de dados"
   ]
  },
  {
   "cell_type": "markdown",
   "metadata": {},
   "source": [
    "### Remover municípios com coordenadas, mas ausentes da tabela de dados de produção"
   ]
  },
  {
   "cell_type": "code",
   "execution_count": null,
   "metadata": {},
   "outputs": [],
   "source": [
    "len(dados[dados['Ano'].isna()])\n",
    "print(dados[dados['Ano'].isna()])\n",
    "#remover 9 municípios com coordenadas, mas sem dados de produção\n",
    "dados = dados[dados['Ano'].notna()]\n",
    "print(dados[dados['Ano'].isna()])"
   ]
  },
  {
   "cell_type": "markdown",
   "metadata": {},
   "source": [
    "### Definir variável 'Ano' como tipo integrais"
   ]
  },
  {
   "cell_type": "code",
   "execution_count": null,
   "metadata": {},
   "outputs": [],
   "source": [
    "#será útil para ordenar e extrair subconjuntos\n",
    "dados['Ano'] = dados['Ano'].astype(int)\n",
    "dados"
   ]
  },
  {
   "cell_type": "markdown",
   "metadata": {},
   "source": [
    "### Salvar a tabela de dados"
   ]
  },
  {
   "cell_type": "code",
   "execution_count": null,
   "metadata": {},
   "outputs": [],
   "source": [
    "dados.to_csv('../dados_coletados/dados.csv', index = False)"
   ]
  }
 ],
 "metadata": {
  "kernelspec": {
   "display_name": "Python 3",
   "language": "python",
   "name": "python3"
  },
  "language_info": {
   "codemirror_mode": {
    "name": "ipython",
    "version": 3
   },
   "file_extension": ".py",
   "mimetype": "text/x-python",
   "name": "python",
   "nbconvert_exporter": "python",
   "pygments_lexer": "ipython3",
   "version": "3.8.10"
  }
 },
 "nbformat": 4,
 "nbformat_minor": 4
}
