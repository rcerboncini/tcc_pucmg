{
 "cells": [
  {
   "cell_type": "code",
   "execution_count": null,
   "metadata": {
    "executionInfo": {
     "elapsed": 1580,
     "status": "ok",
     "timestamp": 1650812128844,
     "user": {
      "displayName": "Ricardo Augusto Serpa Cerboncini",
      "userId": "09230551661480125190"
     },
     "user_tz": 240
    },
    "id": "fCRIEE4QISW9"
   },
   "outputs": [],
   "source": [
    "import pandas as pd\n",
    "import numpy as np\n",
    "import matplotlib.pyplot as plt\n",
    "import seaborn as sns\n",
    "import joblib\n",
    "import time"
   ]
  },
  {
   "cell_type": "markdown",
   "metadata": {
    "id": "2b_VHf3iKzG_"
   },
   "source": [
    "### Importar tabela de dados e ajustar a variáve alvo"
   ]
  },
  {
   "cell_type": "code",
   "execution_count": null,
   "metadata": {
    "colab": {
     "base_uri": "https://localhost:8080/",
     "height": 0
    },
    "executionInfo": {
     "elapsed": 1338,
     "status": "ok",
     "timestamp": 1650812131344,
     "user": {
      "displayName": "Ricardo Augusto Serpa Cerboncini",
      "userId": "09230551661480125190"
     },
     "user_tz": 240
    },
    "id": "RHagIfdnLpo6",
    "outputId": "c8db420a-cdc6-44f6-dbf5-d688d98efa5a",
    "scrolled": true
   },
   "outputs": [],
   "source": [
    "tabela = pd.read_csv('../dados_coletados/tabela_modelagem.csv', na_values = '...')\n",
    "tabela = tabela[tabela['Rendimento'] != '-']\n",
    "tabela['Rendimento'] = tabela['Rendimento'].astype(float)\n",
    "tabela = tabela[tabela['Rendimento'].notnull()]\n",
    "tabela['Rendimento'] = tabela['Rendimento']**.5\n",
    "tabela"
   ]
  },
  {
   "cell_type": "markdown",
   "metadata": {
    "id": "Wod4hCWYJoFg"
   },
   "source": [
    "### Dividir dados em teste e treino"
   ]
  },
  {
   "cell_type": "code",
   "execution_count": null,
   "metadata": {
    "executionInfo": {
     "elapsed": 7,
     "status": "ok",
     "timestamp": 1650812132632,
     "user": {
      "displayName": "Ricardo Augusto Serpa Cerboncini",
      "userId": "09230551661480125190"
     },
     "user_tz": 240
    },
    "id": "2DAve2jWPCCd"
   },
   "outputs": [],
   "source": [
    "seed = 5744"
   ]
  },
  {
   "cell_type": "code",
   "execution_count": null,
   "metadata": {
    "colab": {
     "base_uri": "https://localhost:8080/",
     "height": 0
    },
    "executionInfo": {
     "elapsed": 8,
     "status": "ok",
     "timestamp": 1650812132633,
     "user": {
      "displayName": "Ricardo Augusto Serpa Cerboncini",
      "userId": "09230551661480125190"
     },
     "user_tz": 240
    },
    "id": "wYxBfyQdMvwz",
    "outputId": "8850b27b-8c73-4507-d1b5-23a9eda072b7"
   },
   "outputs": [],
   "source": [
    "analisar = tabela.sample(frac = 1, random_state = seed)\n",
    "analisar.head()"
   ]
  },
  {
   "cell_type": "code",
   "execution_count": null,
   "metadata": {
    "colab": {
     "base_uri": "https://localhost:8080/"
    },
    "executionInfo": {
     "elapsed": 464,
     "status": "ok",
     "timestamp": 1650812133091,
     "user": {
      "displayName": "Ricardo Augusto Serpa Cerboncini",
      "userId": "09230551661480125190"
     },
     "user_tz": 240
    },
    "id": "3UjlUQfkNY1V",
    "outputId": "d03bf83c-7b45-4a73-dd94-366b0bd8f3c4",
    "scrolled": true
   },
   "outputs": [],
   "source": [
    "analisar.info()"
   ]
  },
  {
   "cell_type": "code",
   "execution_count": null,
   "metadata": {
    "executionInfo": {
     "elapsed": 5,
     "status": "ok",
     "timestamp": 1650812133092,
     "user": {
      "displayName": "Ricardo Augusto Serpa Cerboncini",
      "userId": "09230551661480125190"
     },
     "user_tz": 240
    },
    "id": "s8hgDFXzNoaQ"
   },
   "outputs": [],
   "source": [
    "X = analisar.iloc[:,11:]\n",
    "y = analisar.iloc[:,8]"
   ]
  },
  {
   "cell_type": "code",
   "execution_count": null,
   "metadata": {
    "executionInfo": {
     "elapsed": 5,
     "status": "ok",
     "timestamp": 1650812133092,
     "user": {
      "displayName": "Ricardo Augusto Serpa Cerboncini",
      "userId": "09230551661480125190"
     },
     "user_tz": 240
    },
    "id": "eOaGdMwlJNpI"
   },
   "outputs": [],
   "source": [
    "from sklearn.model_selection import train_test_split\n",
    "X_train, X_test, y_train, y_test = train_test_split(X, y, test_size = 0.2, random_state = seed)"
   ]
  },
  {
   "cell_type": "code",
   "execution_count": null,
   "metadata": {
    "colab": {
     "base_uri": "https://localhost:8080/"
    },
    "executionInfo": {
     "elapsed": 4,
     "status": "ok",
     "timestamp": 1650812133092,
     "user": {
      "displayName": "Ricardo Augusto Serpa Cerboncini",
      "userId": "09230551661480125190"
     },
     "user_tz": 240
    },
    "id": "KI4RegvDvdjG",
    "outputId": "1693eed1-f8f4-4c44-cb71-4570c8514241"
   },
   "outputs": [],
   "source": [
    "print('N treino:', len(X_train))\n",
    "print('N teste:', len(X_test))"
   ]
  },
  {
   "cell_type": "markdown",
   "metadata": {
    "id": "Msn6JVVUKin5"
   },
   "source": [
    "### Padronizar os atributos"
   ]
  },
  {
   "cell_type": "code",
   "execution_count": null,
   "metadata": {
    "executionInfo": {
     "elapsed": 4,
     "status": "ok",
     "timestamp": 1650812134144,
     "user": {
      "displayName": "Ricardo Augusto Serpa Cerboncini",
      "userId": "09230551661480125190"
     },
     "user_tz": 240
    },
    "id": "a4uCcOpAJl9T"
   },
   "outputs": [],
   "source": [
    "from sklearn.preprocessing import StandardScaler\n",
    "sc = StandardScaler()\n",
    "scaler = sc.fit(X_train)\n",
    "X_train = scaler.transform(X_train)\n",
    "X_test = scaler.transform(X_test)\n",
    "joblib.dump(scaler, '../resultados/scaler_reg.sav')"
   ]
  },
  {
   "cell_type": "markdown",
   "metadata": {
    "id": "YRjU6EjN7_By"
   },
   "source": [
    "### Definir método para validação cruzada dos modelos de regressão"
   ]
  },
  {
   "cell_type": "code",
   "execution_count": null,
   "metadata": {
    "executionInfo": {
     "elapsed": 332,
     "status": "ok",
     "timestamp": 1650812136691,
     "user": {
      "displayName": "Ricardo Augusto Serpa Cerboncini",
      "userId": "09230551661480125190"
     },
     "user_tz": 240
    },
    "id": "S4HhpYr_8FkH"
   },
   "outputs": [],
   "source": [
    "from sklearn.model_selection import RandomizedSearchCV\n",
    "from sklearn.model_selection import GridSearchCV\n",
    "from sklearn.metrics import mean_squared_error\n",
    "from sklearn.metrics import mean_absolute_error\n",
    "\n",
    "def regressor_cv(sample_method, estimator, X_train, y_train, parameters, cv = 5, n_iter = 10):\n",
    "    if sample_method == 'RandomizedSearchCV':\n",
    "        tunning = RandomizedSearchCV(\n",
    "            estimator = estimator,\n",
    "            param_distributions = parameters,\n",
    "            n_iter = n_iter,\n",
    "            cv = cv,\n",
    "            scoring = 'neg_mean_squared_error',\n",
    "            verbose = 3,\n",
    "            random_state = seed,\n",
    "            n_jobs = -1)\n",
    "    elif sample_method == 'GridSearchCV': \n",
    "        tunning = GridSearchCV(\n",
    "            estimator = estimator,\n",
    "            param_grid = parameters,\n",
    "            cv = cv,\n",
    "            scoring = 'neg_mean_squared_error',\n",
    "            verbose = 3,\n",
    "            n_jobs = -1)\n",
    "    else:\n",
    "        print('Método de amostragem invalido! Escolha entre \"RandomizedSearchCV\" ou \"GridSearchCV\"')\n",
    "    model = tunning.fit(X_train, y_train)\n",
    "    display(model.best_params_)\n",
    "    display(model.best_score_)\n",
    "\n",
    "def resultados(y_pred):\n",
    "    print('Erro absoluto médio:', mean_absolute_error(y_test, y_pred))\n",
    "    print('Erro quadrado médio:', mean_squared_error(y_test, y_pred))\n",
    "    print('Raiz do erro quadrado médio:', mean_squared_error(y_test, y_pred, squared = False))\n",
    "    sns.scatterplot(\n",
    "        x = y_test,\n",
    "        y = y_pred)\n",
    "    plt.xlabel('Observado')\n",
    "    plt.ylabel('Predito')"
   ]
  },
  {
   "cell_type": "markdown",
   "metadata": {
    "id": "oMMtbedjPXpg"
   },
   "source": [
    "### Regressão por Vetores Suporte"
   ]
  },
  {
   "cell_type": "code",
   "execution_count": null,
   "metadata": {
    "executionInfo": {
     "elapsed": 403,
     "status": "ok",
     "timestamp": 1650814013812,
     "user": {
      "displayName": "Ricardo Augusto Serpa Cerboncini",
      "userId": "09230551661480125190"
     },
     "user_tz": 240
    },
    "id": "EGAA4wwSg2uY"
   },
   "outputs": [],
   "source": [
    "from sklearn.svm import SVR"
   ]
  },
  {
   "cell_type": "markdown",
   "metadata": {
    "id": "13GxqP278d-N"
   },
   "source": [
    "#### Modelo sem ajuste de hiperparametros"
   ]
  },
  {
   "cell_type": "code",
   "execution_count": null,
   "metadata": {
    "colab": {
     "base_uri": "https://localhost:8080/"
    },
    "executionInfo": {
     "elapsed": 12,
     "status": "ok",
     "timestamp": 1650811555502,
     "user": {
      "displayName": "Ricardo Augusto Serpa Cerboncini",
      "userId": "09230551661480125190"
     },
     "user_tz": 240
    },
    "id": "rLZgbSrEIboq",
    "outputId": "1f312726-fdb7-47d4-ad6c-0978ed112922"
   },
   "outputs": [],
   "source": [
    "regressor = SVR(kernel = 'rbf')\n",
    "regressor.get_params()"
   ]
  },
  {
   "cell_type": "code",
   "execution_count": null,
   "metadata": {
    "colab": {
     "base_uri": "https://localhost:8080/",
     "height": 346
    },
    "executionInfo": {
     "elapsed": 27305,
     "status": "error",
     "timestamp": 1650811584563,
     "user": {
      "displayName": "Ricardo Augusto Serpa Cerboncini",
      "userId": "09230551661480125190"
     },
     "user_tz": 240
    },
    "id": "qZQanux61y9s",
    "outputId": "c39a58b8-7d26-44dd-acf3-9894a41cf522"
   },
   "outputs": [],
   "source": [
    "start = time.time()\n",
    "regressor.fit(X_train, y_train)\n",
    "end = time.time()\n",
    "print('Finalizado em ', round(end - start, 1), ' s')"
   ]
  },
  {
   "cell_type": "code",
   "execution_count": null,
   "metadata": {
    "id": "nCoNkfmedWJG"
   },
   "outputs": [],
   "source": [
    "y_pred = regressor.predict(X_test)"
   ]
  },
  {
   "cell_type": "code",
   "execution_count": null,
   "metadata": {
    "id": "vM5XGxoleApG"
   },
   "outputs": [],
   "source": [
    "resultados(y_pred)"
   ]
  },
  {
   "cell_type": "markdown",
   "metadata": {
    "id": "gThdHHgU9AIM"
   },
   "source": [
    "#### Seleção de hiperparametros"
   ]
  },
  {
   "cell_type": "code",
   "execution_count": null,
   "metadata": {
    "id": "0Rs5QBiT9HGu"
   },
   "outputs": [],
   "source": [
    "C = [0.001 ,0.01, 0.1, 1, 10, 100] # Custo: trade-off entre margem mínima de separação e erro\n",
    "gamma = [0.001, 0.01, 0.1, 1, 10, 100] # Curvatura dos vetores\n",
    "epsilon = [0.1, 0.3, 0.5, 0.8, 1] # Tamanho da banda\n",
    "kernel = ['rbf']\n",
    "\n",
    "random_grid = {\n",
    "    'C': C,\n",
    "    'gamma': gamma,\n",
    "    'epsilon': epsilon,\n",
    "    'kernel': kernel}"
   ]
  },
  {
   "cell_type": "code",
   "execution_count": null,
   "metadata": {
    "id": "KUthYsFreHRb"
   },
   "outputs": [],
   "source": [
    "start = time.time()\n",
    "regressor_cv('RandomizedSearchCV', SVR(), X_train, y_train, random_grid, cv = 5, n_iter = 60)\n",
    "end = time.time()\n",
    "print('Finalizado em ', round(end - start, 1), ' s')"
   ]
  },
  {
   "cell_type": "markdown",
   "metadata": {
    "id": "2i8OgbIxiSa6"
   },
   "source": [
    "##### Modelo final"
   ]
  },
  {
   "cell_type": "code",
   "execution_count": null,
   "metadata": {
    "id": "tf_h2dcTiTC1"
   },
   "outputs": [],
   "source": [
    "SVR_regressor = SVR(\n",
    "    kernel = 'rbf',\n",
    "    C = 10,\n",
    "    gamma = 0.1,\n",
    "    epsilon = 1)\n",
    "SVR_regressor.fit(X_train, y_train)"
   ]
  },
  {
   "cell_type": "code",
   "execution_count": null,
   "metadata": {
    "id": "OSiYfp4wiXlX"
   },
   "outputs": [],
   "source": [
    "SVR_y_pred = SVR_regressor.predict(X_test)"
   ]
  },
  {
   "cell_type": "code",
   "execution_count": null,
   "metadata": {
    "id": "ClDyc2q4LNNW"
   },
   "outputs": [],
   "source": [
    "resultados(SVR_y_pred)"
   ]
  },
  {
   "cell_type": "code",
   "execution_count": null,
   "metadata": {
    "id": "7QJYs5KXKw_b"
   },
   "outputs": [],
   "source": [
    "SVR_savefile = '../resultados/SVR.sav'\n",
    "joblib.dump(SVR_regressor, SVR_savefile)"
   ]
  },
  {
   "cell_type": "markdown",
   "metadata": {
    "id": "eKcxj8f4eAbj"
   },
   "source": [
    "#### Modelo salvo"
   ]
  },
  {
   "cell_type": "code",
   "execution_count": null,
   "metadata": {
    "executionInfo": {
     "elapsed": 353,
     "status": "ok",
     "timestamp": 1650814020040,
     "user": {
      "displayName": "Ricardo Augusto Serpa Cerboncini",
      "userId": "09230551661480125190"
     },
     "user_tz": 240
    },
    "id": "mCMuzJ12eA3Y"
   },
   "outputs": [],
   "source": [
    "SVR_model = joblib.load('../resultados/SVR.sav')"
   ]
  },
  {
   "cell_type": "code",
   "execution_count": null,
   "metadata": {
    "executionInfo": {
     "elapsed": 8299,
     "status": "ok",
     "timestamp": 1650814029288,
     "user": {
      "displayName": "Ricardo Augusto Serpa Cerboncini",
      "userId": "09230551661480125190"
     },
     "user_tz": 240
    },
    "id": "aTFjuqh7ePQF"
   },
   "outputs": [],
   "source": [
    "SVR_y_pred = SVR_model.predict(X_test)"
   ]
  },
  {
   "cell_type": "code",
   "execution_count": null,
   "metadata": {
    "id": "X5XRf8qBeZ7I"
   },
   "outputs": [],
   "source": [
    "resultados(SVR_y_pred)"
   ]
  },
  {
   "cell_type": "markdown",
   "metadata": {
    "id": "yOVzxXY6fUcC"
   },
   "source": [
    "### Árvore de Decisão"
   ]
  },
  {
   "cell_type": "code",
   "execution_count": null,
   "metadata": {
    "executionInfo": {
     "elapsed": 349,
     "status": "ok",
     "timestamp": 1650814010572,
     "user": {
      "displayName": "Ricardo Augusto Serpa Cerboncini",
      "userId": "09230551661480125190"
     },
     "user_tz": 240
    },
    "id": "itBemvjXg9Bz"
   },
   "outputs": [],
   "source": [
    "from sklearn.tree import DecisionTreeRegressor"
   ]
  },
  {
   "cell_type": "markdown",
   "metadata": {
    "id": "M2Egp_KJhCJy"
   },
   "source": [
    "#### Modelo sem ajuste de hiperparametros"
   ]
  },
  {
   "cell_type": "code",
   "execution_count": null,
   "metadata": {
    "colab": {
     "base_uri": "https://localhost:8080/"
    },
    "executionInfo": {
     "elapsed": 333,
     "status": "ok",
     "timestamp": 1650723162556,
     "user": {
      "displayName": "Ricardo Augusto Serpa Cerboncini",
      "userId": "09230551661480125190"
     },
     "user_tz": 240
    },
    "id": "mwAVGZ7wiTwa",
    "outputId": "1d4d133d-1f23-4989-fb55-239420ce3e5f"
   },
   "outputs": [],
   "source": [
    "regressor = DecisionTreeRegressor(random_state = seed)\n",
    "regressor.get_params()"
   ]
  },
  {
   "cell_type": "code",
   "execution_count": null,
   "metadata": {
    "id": "98gMZTRN8Hvc"
   },
   "outputs": [],
   "source": [
    "start = time.time()\n",
    "regressor.fit(X_train, y_train)\n",
    "end = time.time()\n",
    "print('Finalizado em ', round(end - start, 1), ' s')"
   ]
  },
  {
   "cell_type": "code",
   "execution_count": null,
   "metadata": {
    "id": "V2GDtG7mihHq"
   },
   "outputs": [],
   "source": [
    "y_pred = regressor.predict(X_test)"
   ]
  },
  {
   "cell_type": "code",
   "execution_count": null,
   "metadata": {
    "colab": {
     "base_uri": "https://localhost:8080/",
     "height": 331
    },
    "executionInfo": {
     "elapsed": 523,
     "status": "ok",
     "timestamp": 1650573116642,
     "user": {
      "displayName": "Ricardo Augusto Serpa Cerboncini",
      "userId": "09230551661480125190"
     },
     "user_tz": 240
    },
    "id": "uPZbRJNtiqjd",
    "outputId": "c8f5c475-5cf2-4cdd-e2cc-fc6a226e47f9"
   },
   "outputs": [],
   "source": [
    "resultados(y_pred)"
   ]
  },
  {
   "cell_type": "markdown",
   "metadata": {
    "id": "cBK4O_hT3kP4"
   },
   "source": [
    "#### Seleção de hiperparametros"
   ]
  },
  {
   "cell_type": "code",
   "execution_count": null,
   "metadata": {
    "id": "ufp8dYEe3jnU"
   },
   "outputs": [],
   "source": [
    "splitter = ['best', 'random'] #Pontos de divisão criados aleatóriamente ('random') ou todos possíveis ('best')\n",
    "max_features = [None, 2, 5, 10, 15] # Número máximo de atributos a cada decisão\n",
    "max_depth = [None, 10, 100, 300, 600, 1000] # Tamanho máximo de uma árvore de decisão (número de nós)\n",
    "min_samples_split = [2, 10, 50, 100] # Mínimo de amostras para criar uma divisão\n",
    "min_samples_leaf = [1, 5, 20, 50] # Mínimo número de amostras para cada nó terminal\n",
    "max_leaf_nodes = [None, 10, 100, 300, 600, 1000] # Número máximo de nós terminais (limita max_depth)\n",
    "\n",
    "random_grid = {\n",
    "    'splitter': splitter,\n",
    "    'max_depth': max_depth,\n",
    "    'min_samples_leaf': min_samples_leaf,\n",
    "    'min_samples_split': min_samples_split,\n",
    "    'max_features': max_features,\n",
    "    'max_leaf_nodes': max_leaf_nodes}"
   ]
  },
  {
   "cell_type": "code",
   "execution_count": null,
   "metadata": {
    "colab": {
     "base_uri": "https://localhost:8080/",
     "height": 346
    },
    "executionInfo": {
     "elapsed": 6202,
     "status": "error",
     "timestamp": 1650723186250,
     "user": {
      "displayName": "Ricardo Augusto Serpa Cerboncini",
      "userId": "09230551661480125190"
     },
     "user_tz": 240
    },
    "id": "4cRGLGtT53EL",
    "outputId": "8d6b3d12-0f1b-4792-ba45-f428bacebd15",
    "scrolled": true
   },
   "outputs": [],
   "source": [
    "start = time.time()\n",
    "regressor_cv('RandomizedSearchCV', DecisionTreeRegressor(), X_train, y_train, random_grid, cv = 5, n_iter = 500)\n",
    "end = time.time()\n",
    "print('Finalizado em ', round(end - start, 1), ' s')"
   ]
  },
  {
   "cell_type": "markdown",
   "metadata": {
    "id": "ojaBP_OLParR"
   },
   "source": [
    "##### Modelo final"
   ]
  },
  {
   "cell_type": "code",
   "execution_count": null,
   "metadata": {
    "colab": {
     "base_uri": "https://localhost:8080/"
    },
    "executionInfo": {
     "elapsed": 792,
     "status": "ok",
     "timestamp": 1650574828551,
     "user": {
      "displayName": "Ricardo Augusto Serpa Cerboncini",
      "userId": "09230551661480125190"
     },
     "user_tz": 240
    },
    "id": "ptIFVKwDPdiO",
    "outputId": "c99819a8-7f33-4a99-a6da-423397be573e"
   },
   "outputs": [],
   "source": [
    "DT_regressor = DecisionTreeRegressor(\n",
    "    random_state = seed,\n",
    "    splitter = 'best',\n",
    "    max_features = None,\n",
    "    max_depth = 300,\n",
    "    min_samples_split = 10,\n",
    "    min_samples_leaf = 5,\n",
    "    max_leaf_nodes = 300)\n",
    "DT_regressor.fit(X_train, y_train)"
   ]
  },
  {
   "cell_type": "code",
   "execution_count": null,
   "metadata": {
    "id": "EQ2ZQ52CP6i_"
   },
   "outputs": [],
   "source": [
    "DT_y_pred = DT_regressor.predict(X_test)"
   ]
  },
  {
   "cell_type": "code",
   "execution_count": null,
   "metadata": {
    "colab": {
     "base_uri": "https://localhost:8080/",
     "height": 331
    },
    "executionInfo": {
     "elapsed": 1090,
     "status": "ok",
     "timestamp": 1650574848672,
     "user": {
      "displayName": "Ricardo Augusto Serpa Cerboncini",
      "userId": "09230551661480125190"
     },
     "user_tz": 240
    },
    "id": "FIRIwJ6FQFd4",
    "outputId": "a7d8c5b4-a1ff-4c66-cf8e-f9dca9f65670"
   },
   "outputs": [],
   "source": [
    "resultados(DT_y_pred)"
   ]
  },
  {
   "cell_type": "code",
   "execution_count": null,
   "metadata": {
    "colab": {
     "base_uri": "https://localhost:8080/"
    },
    "executionInfo": {
     "elapsed": 342,
     "status": "ok",
     "timestamp": 1650574885762,
     "user": {
      "displayName": "Ricardo Augusto Serpa Cerboncini",
      "userId": "09230551661480125190"
     },
     "user_tz": 240
    },
    "id": "7AjoHlWhQaA_",
    "outputId": "400e071e-c177-4802-8dc4-17834b2a47d9"
   },
   "outputs": [],
   "source": [
    "DT_savefile = '../resultados/DT_reg.sav'\n",
    "joblib.dump(DT_regressor, DT_savefile)"
   ]
  },
  {
   "cell_type": "markdown",
   "metadata": {
    "id": "ts_p6pG8hR-u"
   },
   "source": [
    "#### Modelo salvo"
   ]
  },
  {
   "cell_type": "code",
   "execution_count": null,
   "metadata": {
    "executionInfo": {
     "elapsed": 347,
     "status": "ok",
     "timestamp": 1650814032083,
     "user": {
      "displayName": "Ricardo Augusto Serpa Cerboncini",
      "userId": "09230551661480125190"
     },
     "user_tz": 240
    },
    "id": "NeBvwkzihSba"
   },
   "outputs": [],
   "source": [
    "DT_model = joblib.load('../resultados/DT_reg.sav')"
   ]
  },
  {
   "cell_type": "code",
   "execution_count": null,
   "metadata": {
    "executionInfo": {
     "elapsed": 3,
     "status": "ok",
     "timestamp": 1650814033410,
     "user": {
      "displayName": "Ricardo Augusto Serpa Cerboncini",
      "userId": "09230551661480125190"
     },
     "user_tz": 240
    },
    "id": "53YlOtu4hSoT"
   },
   "outputs": [],
   "source": [
    "DT_y_pred = DT_model.predict(X_test)"
   ]
  },
  {
   "cell_type": "code",
   "execution_count": null,
   "metadata": {
    "id": "GZC0-1S3he4S"
   },
   "outputs": [],
   "source": [
    "resultados(DT_y_pred)"
   ]
  },
  {
   "cell_type": "markdown",
   "metadata": {
    "id": "4nQ4eUY9jx3y"
   },
   "source": [
    "### Floresta Aleatória\n"
   ]
  },
  {
   "cell_type": "code",
   "execution_count": null,
   "metadata": {
    "executionInfo": {
     "elapsed": 340,
     "status": "ok",
     "timestamp": 1650814044253,
     "user": {
      "displayName": "Ricardo Augusto Serpa Cerboncini",
      "userId": "09230551661480125190"
     },
     "user_tz": 240
    },
    "id": "LygtniHg17iQ"
   },
   "outputs": [],
   "source": [
    "from sklearn.ensemble import RandomForestRegressor"
   ]
  },
  {
   "cell_type": "markdown",
   "metadata": {
    "id": "eHstnNgJobPh"
   },
   "source": [
    "#### Modelo sem ajuste de hiperparametros"
   ]
  },
  {
   "cell_type": "code",
   "execution_count": null,
   "metadata": {
    "colab": {
     "base_uri": "https://localhost:8080/"
    },
    "executionInfo": {
     "elapsed": 331,
     "status": "ok",
     "timestamp": 1650575095444,
     "user": {
      "displayName": "Ricardo Augusto Serpa Cerboncini",
      "userId": "09230551661480125190"
     },
     "user_tz": 240
    },
    "id": "EBNW4Sijj_ph",
    "outputId": "4701c517-db92-4ee1-f46e-1e94a8f87720"
   },
   "outputs": [],
   "source": [
    "regressor = RandomForestRegressor(random_state = seed)\n",
    "regressor.get_params()"
   ]
  },
  {
   "cell_type": "code",
   "execution_count": null,
   "metadata": {
    "colab": {
     "base_uri": "https://localhost:8080/"
    },
    "executionInfo": {
     "elapsed": 53803,
     "status": "ok",
     "timestamp": 1650575161330,
     "user": {
      "displayName": "Ricardo Augusto Serpa Cerboncini",
      "userId": "09230551661480125190"
     },
     "user_tz": 240
    },
    "id": "YJGusUpUo0HF",
    "outputId": "e188fac3-ebe5-4a8e-8579-2ebad16d427c"
   },
   "outputs": [],
   "source": [
    "start = time.time()\n",
    "regressor.fit(X_train, y_train)\n",
    "end = time.time()\n",
    "print('Finalizado em ', round(end - start, 1), ' s')"
   ]
  },
  {
   "cell_type": "code",
   "execution_count": null,
   "metadata": {
    "colab": {
     "base_uri": "https://localhost:8080/",
     "height": 331
    },
    "executionInfo": {
     "elapsed": 1117,
     "status": "ok",
     "timestamp": 1650575164673,
     "user": {
      "displayName": "Ricardo Augusto Serpa Cerboncini",
      "userId": "09230551661480125190"
     },
     "user_tz": 240
    },
    "id": "QZN8VGL9fmw3",
    "outputId": "47b1c8da-b090-4277-bac1-a03dec5da654"
   },
   "outputs": [],
   "source": [
    "y_pred = regressor.predict(X_test)\n",
    "resultados(y_pred)"
   ]
  },
  {
   "cell_type": "markdown",
   "metadata": {
    "id": "5bfmg47AGtWe"
   },
   "source": [
    "#### Seleção de hiperparametros"
   ]
  },
  {
   "cell_type": "code",
   "execution_count": null,
   "metadata": {
    "id": "CX5Kw3pC1wmR"
   },
   "outputs": [],
   "source": [
    "n_estimators = [10, 100, 300, 1000] # Número de árvores de decisão\n",
    "max_features = ['auto', 'sqrt', 'log2', 0.2, 0.5, 0.8] # Número de atributos a cada decisão\n",
    "max_depth = [None, 10, 100, 300, 600, 1000] # Tamanho máximo de uma árvore de decisão (número de nós)\n",
    "bootstrap = [True, False] # Método para selecionar amostras (com ou sem reposição)\n",
    "min_samples_split = [2, 10, 50, 100] # Mínimo de amostras para criar uma divisão\n",
    "min_samples_leaf = [1, 5, 20, 50] # Mínimo número de amostras para cada nó terminal\n",
    "max_leaf_nodes = [None, 10, 100, 300, 600, 1000] # Número máximo de nós terminais (limita max_depth)\n",
    "\n",
    "random_grid = {'n_estimators': n_estimators,\n",
    "               'max_features': max_features,\n",
    "               'max_depth': max_depth,\n",
    "               'min_samples_split': min_samples_split,\n",
    "               'min_samples_leaf': min_samples_leaf,\n",
    "               'bootstrap': bootstrap}"
   ]
  },
  {
   "cell_type": "code",
   "execution_count": null,
   "metadata": {
    "colab": {
     "base_uri": "https://localhost:8080/",
     "height": 210
    },
    "executionInfo": {
     "elapsed": 3665816,
     "status": "ok",
     "timestamp": 1650587534217,
     "user": {
      "displayName": "Ricardo Augusto Serpa Cerboncini",
      "userId": "09230551661480125190"
     },
     "user_tz": 240
    },
    "id": "LVPPu-7RndZQ",
    "outputId": "d245c873-ba60-4ee4-f018-e8490219b9b3"
   },
   "outputs": [],
   "source": [
    "start = time.time()\n",
    "regressor_cv('RandomizedSearchCV', RandomForestRegressor(), X_train, y_train, random_grid, cv = 3, n_iter = 60)\n",
    "end = time.time()\n",
    "print('Finalizado em ', round(end - start, 1), ' s')"
   ]
  },
  {
   "cell_type": "markdown",
   "metadata": {
    "id": "wzoNK-Lcy7ul"
   },
   "source": [
    "##### Modelo final"
   ]
  },
  {
   "cell_type": "code",
   "execution_count": null,
   "metadata": {
    "colab": {
     "base_uri": "https://localhost:8080/"
    },
    "executionInfo": {
     "elapsed": 101826,
     "status": "ok",
     "timestamp": 1650599761189,
     "user": {
      "displayName": "Ricardo Augusto Serpa Cerboncini",
      "userId": "09230551661480125190"
     },
     "user_tz": 240
    },
    "id": "gOEtJ2iAzHa6",
    "outputId": "62a2daca-ead1-4eb4-fb47-2948c0646539"
   },
   "outputs": [],
   "source": [
    "RF_regressor = RandomForestRegressor(\n",
    "    n_estimators = 300,\n",
    "    max_features = 0.5,\n",
    "    max_depth = None,\n",
    "    min_samples_split = 10,\n",
    "    min_samples_leaf = 1,\n",
    "    bootstrap = True,\n",
    "    random_state = seed)\n",
    "RF_regressor.fit(X_train, y_train)"
   ]
  },
  {
   "cell_type": "code",
   "execution_count": null,
   "metadata": {
    "id": "YR8sxTHZ0X3-"
   },
   "outputs": [],
   "source": [
    "RF_y_pred = RF_regressor.predict(X_test)"
   ]
  },
  {
   "cell_type": "code",
   "execution_count": null,
   "metadata": {
    "colab": {
     "base_uri": "https://localhost:8080/",
     "height": 331
    },
    "executionInfo": {
     "elapsed": 531,
     "status": "ok",
     "timestamp": 1650599877527,
     "user": {
      "displayName": "Ricardo Augusto Serpa Cerboncini",
      "userId": "09230551661480125190"
     },
     "user_tz": 240
    },
    "id": "ZB-rlY5_ak_S",
    "outputId": "3eec6ff4-321c-4a88-9b85-c8ee0e4d3957"
   },
   "outputs": [],
   "source": [
    "resultados(RF_y_pred)"
   ]
  },
  {
   "cell_type": "code",
   "execution_count": null,
   "metadata": {
    "colab": {
     "base_uri": "https://localhost:8080/"
    },
    "executionInfo": {
     "elapsed": 1588,
     "status": "ok",
     "timestamp": 1650599892614,
     "user": {
      "displayName": "Ricardo Augusto Serpa Cerboncini",
      "userId": "09230551661480125190"
     },
     "user_tz": 240
    },
    "id": "RclM5pgq-QvQ",
    "outputId": "8504ace0-c185-42c6-b143-c3fb294f2aa6"
   },
   "outputs": [],
   "source": [
    "RF_savefile = '../resultados/rf_reg.sav'\n",
    "joblib.dump(RF_regressor, RF_savefile)"
   ]
  },
  {
   "cell_type": "markdown",
   "metadata": {
    "id": "syGgEKduaXL4"
   },
   "source": [
    "#### Modelo salvo"
   ]
  },
  {
   "cell_type": "code",
   "execution_count": null,
   "metadata": {
    "executionInfo": {
     "elapsed": 2130,
     "status": "ok",
     "timestamp": 1650814049718,
     "user": {
      "displayName": "Ricardo Augusto Serpa Cerboncini",
      "userId": "09230551661480125190"
     },
     "user_tz": 240
    },
    "id": "eSQigfLDc6W4"
   },
   "outputs": [],
   "source": [
    "RF_load = joblib.load('../resultados/rf_reg.sav')"
   ]
  },
  {
   "cell_type": "code",
   "execution_count": null,
   "metadata": {
    "executionInfo": {
     "elapsed": 814,
     "status": "ok",
     "timestamp": 1650814052309,
     "user": {
      "displayName": "Ricardo Augusto Serpa Cerboncini",
      "userId": "09230551661480125190"
     },
     "user_tz": 240
    },
    "id": "AiCb5zs5dBcF"
   },
   "outputs": [],
   "source": [
    "RF_y_pred = RF_load.predict(X_test)"
   ]
  },
  {
   "cell_type": "code",
   "execution_count": null,
   "metadata": {
    "id": "tjRxbOehad7W"
   },
   "outputs": [],
   "source": [
    "resultados(RF_y_pred)"
   ]
  },
  {
   "cell_type": "markdown",
   "metadata": {
    "id": "bXBbyln4KtVV"
   },
   "source": [
    "### Rede Neural"
   ]
  },
  {
   "cell_type": "code",
   "execution_count": null,
   "metadata": {
    "id": "dtgOuAWNkFv8"
   },
   "outputs": [],
   "source": [
    "#pip install keras-tuner"
   ]
  },
  {
   "cell_type": "code",
   "execution_count": null,
   "metadata": {
    "executionInfo": {
     "elapsed": 334,
     "status": "ok",
     "timestamp": 1650814072978,
     "user": {
      "displayName": "Ricardo Augusto Serpa Cerboncini",
      "userId": "09230551661480125190"
     },
     "user_tz": 240
    },
    "id": "8W6yD-GJrGiD"
   },
   "outputs": [],
   "source": [
    "import tensorflow as tf\n",
    "from tqdm.keras import TqdmCallback"
   ]
  },
  {
   "cell_type": "code",
   "execution_count": null,
   "metadata": {
    "id": "NFMmxQgwL6hv"
   },
   "outputs": [],
   "source": [
    "import keras_tuner as kt"
   ]
  },
  {
   "cell_type": "markdown",
   "metadata": {
    "id": "C8zIdYkRpwL_"
   },
   "source": [
    "#### Seleção de hiperparametros"
   ]
  },
  {
   "cell_type": "code",
   "execution_count": null,
   "metadata": {
    "id": "D33P-QIWkYnK"
   },
   "outputs": [],
   "source": [
    "def build_model(hp):\n",
    "    model = tf.keras.models.Sequential()\n",
    "    global X_train\n",
    "    \n",
    "    model.add(tf.keras.layers.Input(X_train.shape[1])) #Input layer\n",
    "    \n",
    "    for i in range(hp.Int(\"num_layers\", 3, 12, 3)): #Hidden layers\n",
    "        model.add(\n",
    "            tf.keras.layers.Dense(\n",
    "                # hiperparâmetros\n",
    "                units = hp.Int(f\"units_{i}\", min_value = 32, max_value = 128, step = 32),\n",
    "                activation = \"relu\"\n",
    "                )\n",
    "            )\n",
    "\n",
    "    model.add(tf.keras.layers.Dense(1, activation = 'linear')) #Output layer\n",
    "    \n",
    "    model.compile(\n",
    "        optimizer='adam', loss = 'mse', metrics=['mse', 'mae']\n",
    "    )\n",
    "\n",
    "    return model"
   ]
  },
  {
   "cell_type": "code",
   "execution_count": null,
   "metadata": {
    "colab": {
     "base_uri": "https://localhost:8080/"
    },
    "executionInfo": {
     "elapsed": 311,
     "status": "ok",
     "timestamp": 1650719131654,
     "user": {
      "displayName": "Ricardo Augusto Serpa Cerboncini",
      "userId": "09230551661480125190"
     },
     "user_tz": 240
    },
    "id": "KC-sR7NNpNlb",
    "outputId": "1fc407e6-4427-4fa1-c368-56fb5dd508e8"
   },
   "outputs": [],
   "source": [
    "build_model(kt.HyperParameters())"
   ]
  },
  {
   "cell_type": "code",
   "execution_count": null,
   "metadata": {
    "id": "RkN3yVkSt445"
   },
   "outputs": [],
   "source": [
    "tuner = kt.RandomSearch(\n",
    "    hypermodel = build_model,\n",
    "    objective = 'val_mse',\n",
    "    max_trials = 200,\n",
    "    executions_per_trial = 1,\n",
    "    overwrite = True,\n",
    "    directory = '../resultados',\n",
    "    project_name = 'kt_reg'\n",
    ")"
   ]
  },
  {
   "cell_type": "code",
   "execution_count": null,
   "metadata": {
    "colab": {
     "base_uri": "https://localhost:8080/"
    },
    "executionInfo": {
     "elapsed": 346,
     "status": "ok",
     "timestamp": 1650719484241,
     "user": {
      "displayName": "Ricardo Augusto Serpa Cerboncini",
      "userId": "09230551661480125190"
     },
     "user_tz": 240
    },
    "id": "lfEOpabtwQl0",
    "outputId": "90a35178-4483-45e1-ee65-037a4cfe9818"
   },
   "outputs": [],
   "source": [
    "start = time.time()\n",
    "tuner.search(X_train, y_train,\n",
    "             epochs = 10,\n",
    "             batch_size = 2337,\n",
    "             validation_split = 0.1,\n",
    "             verbose = 0)\n",
    "end = time.time()\n",
    "print('Finalizado em ', round(end - start, 1), ' s')"
   ]
  },
  {
   "cell_type": "markdown",
   "metadata": {
    "id": "VqtQEFKhk5GV"
   },
   "source": [
    "#### Carregar resultados da seleção de modelos"
   ]
  },
  {
   "cell_type": "code",
   "execution_count": null,
   "metadata": {
    "colab": {
     "base_uri": "https://localhost:8080/"
    },
    "executionInfo": {
     "elapsed": 757,
     "status": "ok",
     "timestamp": 1650721700121,
     "user": {
      "displayName": "Ricardo Augusto Serpa Cerboncini",
      "userId": "09230551661480125190"
     },
     "user_tz": 240
    },
    "id": "Vr1_E66eHTIM",
    "outputId": "c4ecde5f-bfff-4d69-e135-285debad1949"
   },
   "outputs": [],
   "source": [
    "a_tuner = kt.RandomSearch(\n",
    "    hypermodel = build_model,\n",
    "    objective = 'val_mse',\n",
    "    max_trials = 200,\n",
    "    executions_per_trial = 1,\n",
    "    overwrite = False,\n",
    "    directory = '../resultados',\n",
    "    project_name = 'kt_reg'\n",
    ")"
   ]
  },
  {
   "cell_type": "code",
   "execution_count": null,
   "metadata": {
    "colab": {
     "base_uri": "https://localhost:8080/"
    },
    "executionInfo": {
     "elapsed": 288,
     "status": "ok",
     "timestamp": 1650721703337,
     "user": {
      "displayName": "Ricardo Augusto Serpa Cerboncini",
      "userId": "09230551661480125190"
     },
     "user_tz": 240
    },
    "id": "oZaTpF0h62kV",
    "outputId": "cd0b5d07-35e2-4409-e5ad-cab32460355e"
   },
   "outputs": [],
   "source": [
    "a_tuner.results_summary()"
   ]
  },
  {
   "cell_type": "code",
   "execution_count": null,
   "metadata": {
    "id": "CvYnEFm-5nNh"
   },
   "outputs": [],
   "source": [
    "best = a_tuner.get_best_models(num_models = 1)\n",
    "best = best[0]"
   ]
  },
  {
   "cell_type": "code",
   "execution_count": null,
   "metadata": {
    "id": "lYus4wcv5x0b"
   },
   "outputs": [],
   "source": [
    "best.build(input_shape=(25))"
   ]
  },
  {
   "cell_type": "code",
   "execution_count": null,
   "metadata": {
    "colab": {
     "base_uri": "https://localhost:8080/"
    },
    "executionInfo": {
     "elapsed": 462,
     "status": "ok",
     "timestamp": 1650721801913,
     "user": {
      "displayName": "Ricardo Augusto Serpa Cerboncini",
      "userId": "09230551661480125190"
     },
     "user_tz": 240
    },
    "id": "zsPfBMUH6K4k",
    "outputId": "06adac5f-b4e3-47ce-95cb-c80d840dc3c6"
   },
   "outputs": [],
   "source": [
    "best.summary()"
   ]
  },
  {
   "cell_type": "markdown",
   "metadata": {
    "id": "pgGa7VfFq8sA"
   },
   "source": [
    "#### Treinar o modelo"
   ]
  },
  {
   "cell_type": "code",
   "execution_count": null,
   "metadata": {
    "id": "rLrFT2O6l_EU"
   },
   "outputs": [],
   "source": [
    "stop = tf.keras.callbacks.EarlyStopping(\n",
    "    monitor = 'val_loss',\n",
    "    patience = 5)\n",
    "\n",
    "pasta = '../resultados/Rede_neural_reg'\n",
    "arquivo = pasta + '/nn_model-{epoch:02d}-{val_loss:.2f}.hdf5'\n",
    "cp = tf.keras.callbacks.ModelCheckpoint(\n",
    "    arquivo,\n",
    "    monitor = 'val_loss',\n",
    "    verbose = 0,\n",
    "    save_best_only = False,\n",
    "    save_weights_only = False,\n",
    "    save_frequency = 1)"
   ]
  },
  {
   "cell_type": "code",
   "execution_count": null,
   "metadata": {
    "colab": {
     "base_uri": "https://localhost:8080/",
     "height": 77,
     "referenced_widgets": [
      "2f38f1c30a2849beb344d12975297960",
      "b8d445a5350341209471d9c8569444bb",
      "80dd815b3a6e454fa2d49b1ca56bd770",
      "deea6e79c1b543cb823027ab486ccb2b",
      "dcf916717b1a4580bed327d2bc959eae",
      "52288ccf2c5846f79f2ab2e58c7260b6",
      "70f5b02886bf4d109442a40cf280d938",
      "ef5ef56f51924a85b38eb4581001dba6",
      "efa6ea68da6f4808a898baf28d6e0d75",
      "3fd6667faf084d0f8cf74a0646baef10",
      "83f4e536a7324bdf8b27057e8484cb28",
      "08d596a4d72347ec85e9ffd8d98d1b91",
      "2d754f9a00fa4e3ab121443c3ca3fe06",
      "df296b0d4f234ce286edffef6b453562",
      "9667cd34a59640678f9437ca507a9f07",
      "1afc5344048743e1ae5391b9aa009af5",
      "4d8f6dd080514be189c8f25aa4b76f64",
      "249d238cf10a494f951c41001578bc6e",
      "9f8af7a340e44c618aba3727935068b7",
      "380d1fc1713d4fbeb6110f5c57dc868d"
     ]
    },
    "executionInfo": {
     "elapsed": 34612,
     "status": "ok",
     "timestamp": 1650721849617,
     "user": {
      "displayName": "Ricardo Augusto Serpa Cerboncini",
      "userId": "09230551661480125190"
     },
     "user_tz": 240
    },
    "id": "TJ2ZeCbz57yc",
    "outputId": "fb70c416-0eec-4785-8264-e81389840c9f"
   },
   "outputs": [],
   "source": [
    "NN_model = best.fit(X_train, y_train,\n",
    "                    batch_size = 2337,\n",
    "                    epochs = 100,\n",
    "                    validation_split = 0.2,\n",
    "                    verbose = 0,\n",
    "                    callbacks=[TqdmCallback(verbose = 1), cp, stop])"
   ]
  },
  {
   "cell_type": "code",
   "execution_count": null,
   "metadata": {
    "colab": {
     "base_uri": "https://localhost:8080/",
     "height": 423
    },
    "executionInfo": {
     "elapsed": 317,
     "status": "ok",
     "timestamp": 1650721855401,
     "user": {
      "displayName": "Ricardo Augusto Serpa Cerboncini",
      "userId": "09230551661480125190"
     },
     "user_tz": 240
    },
    "id": "Wm0OCfwx6jBW",
    "outputId": "349ab57f-664d-4bc7-ddd1-f9a2d190e3c1"
   },
   "outputs": [],
   "source": [
    "hist = pd.DataFrame(NN_model.history)\n",
    "hist['epoch'] = NN_model.epoch\n",
    "hist"
   ]
  },
  {
   "cell_type": "code",
   "execution_count": null,
   "metadata": {
    "id": "2GcJzIOXqrN1"
   },
   "outputs": [],
   "source": [
    "def plot_history(hist):\n",
    "    plt.figure()\n",
    "    plt.xlabel('Epoch')\n",
    "    plt.ylabel('Erro Absoluto Médio')\n",
    "    plt.plot(hist['epoch'], hist['mae'],\n",
    "            label='Treinamento')\n",
    "    plt.plot(hist['epoch'], hist['val_mae'],\n",
    "            label = 'Validação')\n",
    "    plt.legend()\n",
    "\n",
    "    plt.figure()\n",
    "    plt.xlabel('Epoch')\n",
    "    plt.ylabel('Erro Quadrado Médio')\n",
    "    plt.plot(hist['epoch'], hist['mse'],\n",
    "            label='Treinamento')\n",
    "    plt.plot(hist['epoch'], hist['val_mse'],\n",
    "            label = 'Validação')\n",
    "    plt.legend()\n",
    "    plt.show()"
   ]
  },
  {
   "cell_type": "code",
   "execution_count": null,
   "metadata": {
    "colab": {
     "base_uri": "https://localhost:8080/",
     "height": 541
    },
    "executionInfo": {
     "elapsed": 982,
     "status": "ok",
     "timestamp": 1650721877185,
     "user": {
      "displayName": "Ricardo Augusto Serpa Cerboncini",
      "userId": "09230551661480125190"
     },
     "user_tz": 240
    },
    "id": "c9-nntRB6oTa",
    "outputId": "e02634c5-35a3-441e-e1ce-050c7230e650"
   },
   "outputs": [],
   "source": [
    "plot_history(hist)"
   ]
  },
  {
   "cell_type": "markdown",
   "metadata": {
    "id": "-Ir4g_Jqv_Oq"
   },
   "source": [
    "#### Modelo salvo"
   ]
  },
  {
   "cell_type": "code",
   "execution_count": null,
   "metadata": {
    "executionInfo": {
     "elapsed": 2107,
     "status": "ok",
     "timestamp": 1650814085495,
     "user": {
      "displayName": "Ricardo Augusto Serpa Cerboncini",
      "userId": "09230551661480125190"
     },
     "user_tz": 240
    },
    "id": "6IvhDltQtlxu"
   },
   "outputs": [],
   "source": [
    "load = tf.keras.models.load_model(\n",
    "    '../resultados/Rede_neural_reg/nn_model-58-25.76.hdf5',\n",
    "    compile = False)"
   ]
  },
  {
   "cell_type": "code",
   "execution_count": null,
   "metadata": {
    "id": "ISKqNCTEvPHm"
   },
   "outputs": [],
   "source": [
    "load.summary()"
   ]
  },
  {
   "cell_type": "code",
   "execution_count": null,
   "metadata": {
    "executionInfo": {
     "elapsed": 805,
     "status": "ok",
     "timestamp": 1650814091951,
     "user": {
      "displayName": "Ricardo Augusto Serpa Cerboncini",
      "userId": "09230551661480125190"
     },
     "user_tz": 240
    },
    "id": "ujUaGJnlvmLf"
   },
   "outputs": [],
   "source": [
    "NN_y_pred = load.predict(X_test)"
   ]
  },
  {
   "cell_type": "code",
   "execution_count": null,
   "metadata": {
    "executionInfo": {
     "elapsed": 340,
     "status": "ok",
     "timestamp": 1650814094747,
     "user": {
      "displayName": "Ricardo Augusto Serpa Cerboncini",
      "userId": "09230551661480125190"
     },
     "user_tz": 240
    },
    "id": "1Leut95zvrwE"
   },
   "outputs": [],
   "source": [
    "NN_y_pred = NN_y_pred.reshape(4676)"
   ]
  },
  {
   "cell_type": "code",
   "execution_count": null,
   "metadata": {
    "id": "P8PxyapVv6-b"
   },
   "outputs": [],
   "source": [
    "resultados(NN_y_pred)"
   ]
  },
  {
   "cell_type": "markdown",
   "metadata": {
    "id": "zvlZgbR1yvuY"
   },
   "source": [
    "### XGBoost"
   ]
  },
  {
   "cell_type": "code",
   "execution_count": null,
   "metadata": {
    "executionInfo": {
     "elapsed": 324,
     "status": "ok",
     "timestamp": 1650812142461,
     "user": {
      "displayName": "Ricardo Augusto Serpa Cerboncini",
      "userId": "09230551661480125190"
     },
     "user_tz": 240
    },
    "id": "ogg5I-fnzFVv"
   },
   "outputs": [],
   "source": [
    "from sklearn.ensemble import GradientBoostingRegressor"
   ]
  },
  {
   "cell_type": "markdown",
   "metadata": {
    "id": "SZe2YmlJ0uAA"
   },
   "source": [
    "#### Modelo sem ajuste de hiperparametros"
   ]
  },
  {
   "cell_type": "code",
   "execution_count": null,
   "metadata": {
    "executionInfo": {
     "elapsed": 347,
     "status": "ok",
     "timestamp": 1650812144071,
     "user": {
      "displayName": "Ricardo Augusto Serpa Cerboncini",
      "userId": "09230551661480125190"
     },
     "user_tz": 240
    },
    "id": "uhXJHX62zH_f"
   },
   "outputs": [],
   "source": [
    "regressor = GradientBoostingRegressor()"
   ]
  },
  {
   "cell_type": "code",
   "execution_count": null,
   "metadata": {
    "colab": {
     "base_uri": "https://localhost:8080/"
    },
    "executionInfo": {
     "elapsed": 489,
     "status": "ok",
     "timestamp": 1650811597357,
     "user": {
      "displayName": "Ricardo Augusto Serpa Cerboncini",
      "userId": "09230551661480125190"
     },
     "user_tz": 240
    },
    "id": "A9VJ0W0fz1DF",
    "outputId": "4e3d1c7d-f979-47c1-8d96-4fb75501547b"
   },
   "outputs": [],
   "source": [
    "regressor.get_params()"
   ]
  },
  {
   "cell_type": "code",
   "execution_count": null,
   "metadata": {
    "colab": {
     "base_uri": "https://localhost:8080/"
    },
    "executionInfo": {
     "elapsed": 19447,
     "status": "ok",
     "timestamp": 1650723933228,
     "user": {
      "displayName": "Ricardo Augusto Serpa Cerboncini",
      "userId": "09230551661480125190"
     },
     "user_tz": 240
    },
    "id": "sZs558HKz-bC",
    "outputId": "424889c5-5203-435b-990b-5760bb6a0980"
   },
   "outputs": [],
   "source": [
    "start = time.time()\n",
    "regressor.fit(X_train, y_train)\n",
    "end = time.time()\n",
    "print('Finalizado em ', round(end - start, 1), ' s')"
   ]
  },
  {
   "cell_type": "code",
   "execution_count": null,
   "metadata": {
    "id": "b86l6Fwdz_NT"
   },
   "outputs": [],
   "source": [
    "y_pred = regressor.predict(X_test)"
   ]
  },
  {
   "cell_type": "code",
   "execution_count": null,
   "metadata": {
    "colab": {
     "base_uri": "https://localhost:8080/",
     "height": 331
    },
    "executionInfo": {
     "elapsed": 1128,
     "status": "ok",
     "timestamp": 1650723950293,
     "user": {
      "displayName": "Ricardo Augusto Serpa Cerboncini",
      "userId": "09230551661480125190"
     },
     "user_tz": 240
    },
    "id": "MsZhNulr0IML",
    "outputId": "fb3ac4da-bb46-4e66-dc74-bb0102a7021b"
   },
   "outputs": [],
   "source": [
    "resultados(y_pred)"
   ]
  },
  {
   "cell_type": "markdown",
   "metadata": {
    "id": "nWnV_VKy8NQ8"
   },
   "source": [
    "#### Seleção de hiperparametros"
   ]
  },
  {
   "cell_type": "code",
   "execution_count": null,
   "metadata": {
    "id": "0S9qyWD50S41"
   },
   "outputs": [],
   "source": [
    "n_estimators = [10, 50, 100] # Número de árvores de decisão\n",
    "max_features = ['auto'] # Número de atributos a cada decisão\n",
    "max_depth = [None, 10, 100] # Tamanho máximo de uma árvore de decisão (número de nós)\n",
    "max_leaf_nodes = [None] # Número máximo de nós terminais (limita max_depth)\n",
    "min_samples_split = [2, 50] # Mínimo de amostras para criar uma divisão\n",
    "min_samples_leaf = [1, 50] # Mínimo número de amostras para cada nó terminal\n",
    "learning_rate = [0.1] # Taxa de aprendizado\n",
    "\n",
    "random_grid = {\n",
    "    'n_estimators': n_estimators,\n",
    "    'max_features': max_features,\n",
    "    'max_depth': max_depth,\n",
    "    'max_leaf_nodes': max_leaf_nodes,\n",
    "    'min_samples_split': min_samples_split,\n",
    "    'min_samples_leaf': min_samples_leaf,\n",
    "    'learning_rate': learning_rate}"
   ]
  },
  {
   "cell_type": "code",
   "execution_count": null,
   "metadata": {
    "colab": {
     "base_uri": "https://localhost:8080/",
     "height": 173
    },
    "executionInfo": {
     "elapsed": 33845398,
     "status": "ok",
     "timestamp": 1650779098675,
     "user": {
      "displayName": "Ricardo Augusto Serpa Cerboncini",
      "userId": "09230551661480125190"
     },
     "user_tz": 240
    },
    "id": "KJQNy_700S41",
    "outputId": "f21ac67d-9a61-45c2-aeed-35b0fa8d6919"
   },
   "outputs": [],
   "source": [
    "start = time.time()\n",
    "regressor_cv('GridSearchCV', GradientBoostingRegressor(), X_train, y_train, random_grid, cv = 3)\n",
    "end = time.time()\n",
    "print('Finalizado em ', round(end - start, 1), ' s')"
   ]
  },
  {
   "cell_type": "markdown",
   "metadata": {
    "id": "HzY6yITl8QkV"
   },
   "source": [
    "##### Modelo final"
   ]
  },
  {
   "cell_type": "code",
   "execution_count": null,
   "metadata": {
    "executionInfo": {
     "elapsed": 336,
     "status": "ok",
     "timestamp": 1650812442084,
     "user": {
      "displayName": "Ricardo Augusto Serpa Cerboncini",
      "userId": "09230551661480125190"
     },
     "user_tz": 240
    },
    "id": "pel1ZHQo8Rj7"
   },
   "outputs": [],
   "source": [
    "XGB_regressor = GradientBoostingRegressor(\n",
    "    n_estimators = 100,\n",
    "    max_features = 'auto',\n",
    "    max_depth = 100,\n",
    "    max_leaf_nodes = None,\n",
    "    min_samples_split = 50,\n",
    "    min_samples_leaf = 50,\n",
    "    learning_rate = 0.1,\n",
    "    verbose = 1,\n",
    "    random_state = seed\n",
    ")"
   ]
  },
  {
   "cell_type": "code",
   "execution_count": null,
   "metadata": {
    "colab": {
     "base_uri": "https://localhost:8080/"
    },
    "executionInfo": {
     "elapsed": 130724,
     "status": "ok",
     "timestamp": 1650812574520,
     "user": {
      "displayName": "Ricardo Augusto Serpa Cerboncini",
      "userId": "09230551661480125190"
     },
     "user_tz": 240
    },
    "id": "2EidryYqDLLk",
    "outputId": "d3beb2ab-e222-47e6-b26a-0aa90185ef48"
   },
   "outputs": [],
   "source": [
    "XGB_regressor.fit(X_train, y_train)"
   ]
  },
  {
   "cell_type": "code",
   "execution_count": null,
   "metadata": {
    "executionInfo": {
     "elapsed": 344,
     "status": "ok",
     "timestamp": 1650812579352,
     "user": {
      "displayName": "Ricardo Augusto Serpa Cerboncini",
      "userId": "09230551661480125190"
     },
     "user_tz": 240
    },
    "id": "FB-sxtP58kWK"
   },
   "outputs": [],
   "source": [
    "XGB_y_pred = XGB_regressor.predict(X_test)"
   ]
  },
  {
   "cell_type": "code",
   "execution_count": null,
   "metadata": {
    "colab": {
     "base_uri": "https://localhost:8080/",
     "height": 334
    },
    "executionInfo": {
     "elapsed": 533,
     "status": "ok",
     "timestamp": 1650812584994,
     "user": {
      "displayName": "Ricardo Augusto Serpa Cerboncini",
      "userId": "09230551661480125190"
     },
     "user_tz": 240
    },
    "id": "0ThmPMDwEN63",
    "outputId": "a5b04e06-3a30-4150-c8f6-73bc5412ac35"
   },
   "outputs": [],
   "source": [
    "resultados(XGB_y_pred)"
   ]
  },
  {
   "cell_type": "code",
   "execution_count": null,
   "metadata": {
    "colab": {
     "base_uri": "https://localhost:8080/"
    },
    "executionInfo": {
     "elapsed": 337,
     "status": "ok",
     "timestamp": 1650812598596,
     "user": {
      "displayName": "Ricardo Augusto Serpa Cerboncini",
      "userId": "09230551661480125190"
     },
     "user_tz": 240
    },
    "id": "3k15Fc56FK9z",
    "outputId": "7980bb43-9b0a-4db7-e92c-e7ff08d612b6"
   },
   "outputs": [],
   "source": [
    "XGB_savefile = '../resultados/XGB_reg.sav'\n",
    "joblib.dump(XGB_regressor, XGB_savefile)"
   ]
  },
  {
   "cell_type": "markdown",
   "metadata": {
    "id": "YQ0RiaZy8kyp"
   },
   "source": [
    "#### Modelo salvo"
   ]
  },
  {
   "cell_type": "code",
   "execution_count": null,
   "metadata": {
    "executionInfo": {
     "elapsed": 349,
     "status": "ok",
     "timestamp": 1650812601226,
     "user": {
      "displayName": "Ricardo Augusto Serpa Cerboncini",
      "userId": "09230551661480125190"
     },
     "user_tz": 240
    },
    "id": "T709AEH98mmg"
   },
   "outputs": [],
   "source": [
    "XGB_load = joblib.load('../resultados/XGB_reg.sav')"
   ]
  },
  {
   "cell_type": "code",
   "execution_count": null,
   "metadata": {
    "executionInfo": {
     "elapsed": 332,
     "status": "ok",
     "timestamp": 1650812645109,
     "user": {
      "displayName": "Ricardo Augusto Serpa Cerboncini",
      "userId": "09230551661480125190"
     },
     "user_tz": 240
    },
    "id": "lhzjS95nGVj7"
   },
   "outputs": [],
   "source": [
    "XGB_y_pred = XGB_load.predict(X_test)"
   ]
  },
  {
   "cell_type": "code",
   "execution_count": null,
   "metadata": {
    "id": "ZG7XtkUfGeez"
   },
   "outputs": [],
   "source": [
    "resultados(XGB_y_pred)"
   ]
  },
  {
   "cell_type": "markdown",
   "metadata": {
    "id": "uZbfBcdTJ7O1"
   },
   "source": [
    "### Comparação dos modelos"
   ]
  },
  {
   "cell_type": "code",
   "execution_count": null,
   "metadata": {
    "executionInfo": {
     "elapsed": 347,
     "status": "ok",
     "timestamp": 1650814539338,
     "user": {
      "displayName": "Ricardo Augusto Serpa Cerboncini",
      "userId": "09230551661480125190"
     },
     "user_tz": 240
    },
    "id": "RyfiOhixJ-Mz"
   },
   "outputs": [],
   "source": [
    "SVR_mse = mean_squared_error(y_test, SVR_y_pred)\n",
    "SVR_mae = mean_absolute_error(y_test, SVR_y_pred)\n",
    "SVR_rmse = mean_squared_error(y_test, SVR_y_pred, squared = False)\n",
    "DT_mse = mean_squared_error(y_test, DT_y_pred)\n",
    "DT_mae = mean_absolute_error(y_test, DT_y_pred)\n",
    "DT_rmse = mean_squared_error(y_test, DT_y_pred, squared = False)\n",
    "RF_mse = mean_squared_error(y_test, RF_y_pred)\n",
    "RF_mae = mean_absolute_error(y_test, RF_y_pred)\n",
    "RF_rmse = mean_squared_error(y_test, RF_y_pred, squared = False)\n",
    "NN_mse = mean_squared_error(y_test, NN_y_pred)\n",
    "NN_mae = mean_absolute_error(y_test, NN_y_pred)\n",
    "NN_rmse = mean_squared_error(y_test, NN_y_pred, squared = False)\n",
    "XGB_mse = mean_squared_error(y_test, XGB_y_pred)\n",
    "XGB_mae = mean_absolute_error(y_test, XGB_y_pred)\n",
    "XGB_rmse = mean_squared_error(y_test, XGB_y_pred, squared = False)"
   ]
  },
  {
   "cell_type": "code",
   "execution_count": null,
   "metadata": {
    "executionInfo": {
     "elapsed": 336,
     "status": "ok",
     "timestamp": 1650815503809,
     "user": {
      "displayName": "Ricardo Augusto Serpa Cerboncini",
      "userId": "09230551661480125190"
     },
     "user_tz": 240
    },
    "id": "D79N46pVMF8L"
   },
   "outputs": [],
   "source": [
    "modelos_loss = {\n",
    "    'Modelo': ['SVR', 'DT', 'RF', 'NN', 'XGB'],\n",
    "    'mae': [SVR_mae, DT_mae, RF_mae, NN_mae, XGB_mae],\n",
    "    'mse': [SVR_mse, DT_mse, RF_mse, NN_mse, XGB_mse],\n",
    "    'rmse': [SVR_rmse, DT_rmse, RF_rmse, NN_rmse, XGB_rmse]\n",
    "    }"
   ]
  },
  {
   "cell_type": "code",
   "execution_count": null,
   "metadata": {
    "colab": {
     "base_uri": "https://localhost:8080/",
     "height": 206
    },
    "executionInfo": {
     "elapsed": 6,
     "status": "ok",
     "timestamp": 1650815505042,
     "user": {
      "displayName": "Ricardo Augusto Serpa Cerboncini",
      "userId": "09230551661480125190"
     },
     "user_tz": 240
    },
    "id": "ONmCeMMsONmn",
    "outputId": "6b73bbca-7b9f-4a04-814f-729964563fae"
   },
   "outputs": [],
   "source": [
    "loss_tabela = pd.DataFrame(modelos_loss)\n",
    "loss_tabela"
   ]
  },
  {
   "cell_type": "code",
   "execution_count": null,
   "metadata": {
    "colab": {
     "base_uri": "https://localhost:8080/",
     "height": 206
    },
    "executionInfo": {
     "elapsed": 338,
     "status": "ok",
     "timestamp": 1650815507422,
     "user": {
      "displayName": "Ricardo Augusto Serpa Cerboncini",
      "userId": "09230551661480125190"
     },
     "user_tz": 240
    },
    "id": "_9wY0YdnQYw4",
    "outputId": "bf897db2-f469-4a9f-d968-8df7e2eac965"
   },
   "outputs": [],
   "source": [
    "order = loss_tabela.sort_values('mse', ascending = False, inplace = False)\n",
    "order"
   ]
  },
  {
   "cell_type": "code",
   "execution_count": null,
   "metadata": {
    "colab": {
     "base_uri": "https://localhost:8080/",
     "height": 296
    },
    "executionInfo": {
     "elapsed": 351,
     "status": "ok",
     "timestamp": 1650815525835,
     "user": {
      "displayName": "Ricardo Augusto Serpa Cerboncini",
      "userId": "09230551661480125190"
     },
     "user_tz": 240
    },
    "id": "TW9EnbpBOPp5",
    "outputId": "0cf27cb1-5585-46c5-f966-3268c57b195b"
   },
   "outputs": [],
   "source": [
    "sns.barplot(x = 'Modelo', y = 'mse',\n",
    "            hue = None, data = loss_tabela,\n",
    "            order = order['Modelo'], orient = None,\n",
    "            color = None, palette = None, saturation=0.5)\n",
    "plt.savefig('../resultados/mse_modelos.png', dpi = 300, bbox_inches = 'tight')"
   ]
  }
 ],
 "metadata": {
  "kernelspec": {
   "display_name": "Python 3",
   "language": "python",
   "name": "python3"
  },
  "language_info": {
   "codemirror_mode": {
    "name": "ipython",
    "version": 3
   },
   "file_extension": ".py",
   "mimetype": "text/x-python",
   "name": "python",
   "nbconvert_exporter": "python",
   "pygments_lexer": "ipython3",
   "version": "3.8.10"
  }
 },
 "nbformat": 4,
 "nbformat_minor": 4
}
