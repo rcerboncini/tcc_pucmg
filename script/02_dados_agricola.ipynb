{
 "cells": [
  {
   "cell_type": "code",
   "execution_count": null,
   "metadata": {},
   "outputs": [],
   "source": [
    "import pandas as pd\n",
    "import numpy as np"
   ]
  },
  {
   "cell_type": "markdown",
   "metadata": {},
   "source": [
    "# Dados de produção de soja por município"
   ]
  },
  {
   "cell_type": "markdown",
   "metadata": {},
   "source": [
    "### Carregar os dados"
   ]
  },
  {
   "cell_type": "code",
   "execution_count": null,
   "metadata": {
    "scrolled": true
   },
   "outputs": [],
   "source": [
    "dados_original = pd.read_csv(\"../datasets/soja_1990_2005.csv\", na_values='..')\n",
    "dados_original.head()"
   ]
  },
  {
   "cell_type": "markdown",
   "metadata": {},
   "source": [
    "### Renomear colunas"
   ]
  },
  {
   "cell_type": "code",
   "execution_count": null,
   "metadata": {},
   "outputs": [],
   "source": [
    "dados_original.columns = ['Municipio', 'Ano', 'Variavel', 'Produto', 'Valor']\n",
    "dados_original.head()"
   ]
  },
  {
   "cell_type": "markdown",
   "metadata": {},
   "source": [
    "### Verificar atributos e transpor"
   ]
  },
  {
   "cell_type": "code",
   "execution_count": null,
   "metadata": {},
   "outputs": [],
   "source": [
    "print(dados_original['Produto'].unique())\n",
    "#manter apenas as linhas referentes à produção de soja\n",
    "dados_soja = dados_original[dados_original['Produto'] == 'Soja (em grão)']\n",
    "display(dados_soja)"
   ]
  },
  {
   "cell_type": "code",
   "execution_count": null,
   "metadata": {},
   "outputs": [],
   "source": [
    "# Manter apenas uma combinação de Municipio e Ano\n",
    "tabela_soja = dados_soja[['Municipio','Ano']].drop_duplicates()\n",
    "tabela_soja"
   ]
  },
  {
   "cell_type": "code",
   "execution_count": null,
   "metadata": {
    "scrolled": true
   },
   "outputs": [],
   "source": [
    "#Selecionar atributos que serão transpostos para a tabela\n",
    "atributos = dados_soja['Variavel'].unique()\n",
    "atributos"
   ]
  },
  {
   "cell_type": "code",
   "execution_count": null,
   "metadata": {},
   "outputs": [],
   "source": [
    "for i in atributos:\n",
    "    variavel = dados_soja[dados_soja['Variavel'] == i]\n",
    "    variavel = variavel.rename(columns={'Valor': i})\n",
    "    variavel = variavel.drop(['Variavel','Produto'], axis=1)\n",
    "    tabela_soja = tabela_soja.merge(variavel, on=['Municipio','Ano'])\n",
    "tabela_soja.tail()"
   ]
  },
  {
   "cell_type": "markdown",
   "metadata": {},
   "source": [
    "### Separar a sigla do estado em uma coluna distinta"
   ]
  },
  {
   "cell_type": "code",
   "execution_count": null,
   "metadata": {
    "scrolled": false
   },
   "outputs": [],
   "source": [
    "split = tabela_soja[\"Municipio\"].str.split(\"(\", n = 1, expand = True)\n",
    "tabela_soja[\"Municipio\"] = split[0]\n",
    "tabela_soja[\"Estado\"] = split[1]\n",
    "tabela_soja['Estado'] = tabela_soja['Estado'].str. replace(')','', regex = False)\n",
    "tabela_soja['Municipio'] = tabela_soja['Municipio'].str.strip()\n",
    "tabela_soja.head()"
   ]
  },
  {
   "cell_type": "code",
   "execution_count": null,
   "metadata": {},
   "outputs": [],
   "source": [
    "tabela_soja.columns = [\n",
    "    'Municipio','Ano','Area_total','Area_%','Area_colhida',\n",
    "    'A_colhida_%','Toneladas','Rendimento','Estado'\n",
    "]\n",
    "tabela_soja = tabela_soja.reindex(columns = [\n",
    "    'Municipio','Ano','Estado','Area_total','Area_%',\n",
    "    'Area_colhida','A_colhida_%','Toneladas','Rendimento'\n",
    "])\n",
    "tabela_soja.tail()"
   ]
  },
  {
   "cell_type": "markdown",
   "metadata": {},
   "source": [
    "### Savar tabela em arquivo"
   ]
  },
  {
   "cell_type": "code",
   "execution_count": null,
   "metadata": {},
   "outputs": [],
   "source": [
    "tabela_soja.to_csv('../dados_coletados/tabela_soja.csv', index = False)"
   ]
  }
 ],
 "metadata": {
  "kernelspec": {
   "display_name": "Python 3",
   "language": "python",
   "name": "python3"
  },
  "language_info": {
   "codemirror_mode": {
    "name": "ipython",
    "version": 3
   },
   "file_extension": ".py",
   "mimetype": "text/x-python",
   "name": "python",
   "nbconvert_exporter": "python",
   "pygments_lexer": "ipython3",
   "version": "3.8.10"
  }
 },
 "nbformat": 4,
 "nbformat_minor": 4
}
