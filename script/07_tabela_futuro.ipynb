{
 "cells": [
  {
   "cell_type": "markdown",
   "metadata": {},
   "source": [
    "### Configuração de pacotes"
   ]
  },
  {
   "cell_type": "code",
   "execution_count": null,
   "metadata": {},
   "outputs": [],
   "source": [
    "import pandas as pd\n",
    "from functools import reduce\n",
    "import glob\n",
    "import os"
   ]
  },
  {
   "cell_type": "markdown",
   "metadata": {},
   "source": [
    "### Juntar os dados das variáveis históricas em uma única tabela"
   ]
  },
  {
   "cell_type": "markdown",
   "metadata": {},
   "source": [
    "#### Definir método para os cenários e tempos futuros"
   ]
  },
  {
   "cell_type": "code",
   "execution_count": null,
   "metadata": {},
   "outputs": [],
   "source": [
    "#Cenário da mudança climática: otimista = 'CE0007', intenso = 'CE0009'\n",
    "#Período temporal: 2011-2040 = 'PE0001', 2041-2070 = 'PE0002', 2071-2100 = 'PE0003'\n",
    "def tabela_clima(cenario, tempo):\n",
    "    arquivos = glob.glob(os.path.join('../dados_coletados/futuro/' + \n",
    "                                      cenario + '/' + tempo + '/','*.csv'))\n",
    "    print(len(arquivos))\n",
    "    lista = []\n",
    "    for arquivo in arquivos:\n",
    "        tabela = pd.read_csv(arquivo)\n",
    "        lista.append(tabela)\n",
    "    print(len(lista))\n",
    "    futuro = reduce(\n",
    "        lambda tabela1, tabela2:\n",
    "        pd.merge(tabela1, tabela2,\n",
    "             on = ['Estado','Municipio','Ano']),\n",
    "        lista)\n",
    "    display(futuro.head())\n",
    "    futuro.to_csv('../dados_coletados/' + cenario + '_' + tempo + '.csv', index = False)"
   ]
  },
  {
   "cell_type": "markdown",
   "metadata": {},
   "source": [
    "##### Cenário otimista (RCP4.5) de 2041 a 2070"
   ]
  },
  {
   "cell_type": "code",
   "execution_count": null,
   "metadata": {},
   "outputs": [],
   "source": [
    "tabela_clima('CE0007', 'PE0002')"
   ]
  },
  {
   "cell_type": "markdown",
   "metadata": {},
   "source": [
    "##### Cenário otimista (RCP4.5) de 2071 a 2100"
   ]
  },
  {
   "cell_type": "code",
   "execution_count": null,
   "metadata": {
    "scrolled": true
   },
   "outputs": [],
   "source": [
    "tabela_clima('CE0007', 'PE0003')"
   ]
  },
  {
   "cell_type": "markdown",
   "metadata": {},
   "source": [
    "##### Cenário intenso (RCP8.5) de 2041 a 2070"
   ]
  },
  {
   "cell_type": "code",
   "execution_count": null,
   "metadata": {
    "scrolled": true
   },
   "outputs": [],
   "source": [
    "tabela_clima('CE0009', 'PE0002')"
   ]
  },
  {
   "cell_type": "markdown",
   "metadata": {},
   "source": [
    "##### Cenário intenso (RCP8.5) de 2071 a 2100"
   ]
  },
  {
   "cell_type": "code",
   "execution_count": null,
   "metadata": {},
   "outputs": [],
   "source": [
    "tabela_clima('CE0009', 'PE0003')"
   ]
  }
 ],
 "metadata": {
  "kernelspec": {
   "display_name": "Python 3",
   "language": "python",
   "name": "python3"
  },
  "language_info": {
   "codemirror_mode": {
    "name": "ipython",
    "version": 3
   },
   "file_extension": ".py",
   "mimetype": "text/x-python",
   "name": "python",
   "nbconvert_exporter": "python",
   "pygments_lexer": "ipython3",
   "version": "3.8.10"
  }
 },
 "nbformat": 4,
 "nbformat_minor": 4
}
